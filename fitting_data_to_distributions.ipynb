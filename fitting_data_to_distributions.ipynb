{
 "cells": [
  {
   "cell_type": "markdown",
   "metadata": {},
   "source": [
    "## Fitting data to probability density functions\n",
    "\n",
    "A few common distributions\n",
    "\n",
    "### Some distributions\n",
    "\n",
    "- **Exponential.**\n",
    "- **Power law.** \n",
    "\n",
    "<img src=https://www.statisticshowto.datasciencecentral.com/wp-content/uploads/2016/05/heavy-tailed-300x178.png width=\"300\">\n",
    "\n",
    "- Gamma \n",
    "\n",
    "- **Log normal**. a probability distribution with a normally distributed logarithm. A random variable is lognormally distributed if its logarithm is normally distributed. Skewed distributions with low mean values, large variance, and all-positive values often fit this type of distribution. Values must be positive as log(x) exists only for positive values of x.\n",
    "\n",
    "\n",
    "\n",
    "\n",
    "<img src=https://upload.wikimedia.org/wikipedia/commons/thumb/a/ae/PDF-log_normal_distributions.svg/1200px-PDF-log_normal_distributions.svg.png width=\"200\">\n"
   ]
  },
  {
   "cell_type": "markdown",
   "metadata": {},
   "source": [
    "### 0.1 Power law distribution: Definition and properties\n",
    "\n",
    "\n",
    "Different phenomena follow different distributions. A quantity $x$ follows The power law if it is drawn from a probability distribution:\n",
    "\n",
    "$$\n",
    "P(x) \\propto x^{-\\alpha}\n",
    "$$\n",
    "\n",
    "Where $\\alpha$ is the *exponent* or *scaling parameter*, which typically lies in the range $2 < \\alpha < 3$. This defines the slope of the power law in a log-log plot.\n",
    "\n",
    "Examples of phenomena that are thought to follow power law distributions are things like earth quakes intensities, forest fires and the population size of cities (Clauset et al., 2009). \n",
    "\n",
    "When something follows a power law, it doesn't really make sense to calculate the mean or standard deviation like you would do for the normal distribution. Because the power law creates a long tail distribution, meaning: extraordinatory events are possible. Thus, when something follows a power law, we need different metrics to understand its implications.\n",
    "\n",
    "**Properties**\n",
    "- power laws have **heavier tails** than exponentials. That is, the right tails of the distributions still contain a great deal of the probability. \n",
    "    - these heavy tails make the power law distributions **scale-free**; all values can be expected to occur because there is no characteristic size or scale (Alstott et al., 2014). \n",
    "- Power laws form the core of self organised criticality \n",
    "- Intuition: any avalanche size is possible, but the frequency of neural avalanches exponentially depended on the avalanche size.\n",
    "\n",
    "### 0.2 How do I know when my data fits a power law?\n",
    "\n",
    "While we can never be certain that our observations are drawn from a power law distribution, the following are statistical techniques that help us determine whether our observations are in line with the hypothesis that $x$ is drawn from a distribution in the form of the equation above.\n",
    "\n",
    "**Recipe for analysing power-law distributed data** (Adapted from Clauset et al., 2009)\n",
    "\n",
    "1. Estimate the parameters $x_{min}$ and $\\alpha$ \n",
    "2. Calculate the goodness of fit between the data and the power law.\n",
    "    - If $p > 0.1$: it is plausible that your data follows a power law distribution.\n",
    "    - Else: it doesn't follow a power law distribution."
   ]
  },
  {
   "cell_type": "markdown",
   "metadata": {},
   "source": [
    "## Does my data fit a power law distribution?\n"
   ]
  },
  {
   "cell_type": "markdown",
   "metadata": {},
   "source": [
    "## 1. Run simulation"
   ]
  },
  {
   "cell_type": "code",
   "execution_count": 134,
   "metadata": {
    "scrolled": true
   },
   "outputs": [
    {
     "name": "stdout",
     "output_type": "stream",
     "text": [
      "Simulation done! time: 42 seconds\n"
     ]
    }
   ],
   "source": [
    "# === parameter setting ===\n",
    "sim_params, neuron_params = set_params(J_in=-46.)\n",
    "# === simulate ===\n",
    "spike_times_arr, spike_neurons_arr = simulate(patterns, sim_params, neuron_params)\n",
    "# === transient data ===\n",
    "transient_spikes, transient_lifetime, transient_size = get_transient_data(spike_times_arr,spike_neurons_arr, sim_params)\n",
    "# === put in dataframe ===\n",
    "d = {'transient_spikes':transient_spikes, 'transient_lifetime':transient_lifetime, 'transient_size':transient_size}\n",
    "df = pd.DataFrame(data=d)"
   ]
  },
  {
   "cell_type": "code",
   "execution_count": 135,
   "metadata": {},
   "outputs": [],
   "source": [
    "# add a column with the spike frequency (number of active neurons/1 ms)\n",
    "df['n_frequency'] = round(df['transient_size']/df['transient_lifetime'],2)\n",
    "df['spike_frequency'] = round(df['transient_spikes']/df['transient_lifetime'],2)"
   ]
  },
  {
   "cell_type": "code",
   "execution_count": 136,
   "metadata": {
    "scrolled": false
   },
   "outputs": [
    {
     "data": {
      "text/html": [
       "<div>\n",
       "<style scoped>\n",
       "    .dataframe tbody tr th:only-of-type {\n",
       "        vertical-align: middle;\n",
       "    }\n",
       "\n",
       "    .dataframe tbody tr th {\n",
       "        vertical-align: top;\n",
       "    }\n",
       "\n",
       "    .dataframe thead th {\n",
       "        text-align: right;\n",
       "    }\n",
       "</style>\n",
       "<table border=\"1\" class=\"dataframe\">\n",
       "  <thead>\n",
       "    <tr style=\"text-align: right;\">\n",
       "      <th></th>\n",
       "      <th>transient_spikes</th>\n",
       "      <th>transient_lifetime</th>\n",
       "      <th>transient_size</th>\n",
       "      <th>n_frequency</th>\n",
       "      <th>spike_frequency</th>\n",
       "    </tr>\n",
       "  </thead>\n",
       "  <tbody>\n",
       "    <tr>\n",
       "      <th>count</th>\n",
       "      <td>70.000000</td>\n",
       "      <td>70.000000</td>\n",
       "      <td>70.000000</td>\n",
       "      <td>70.000000</td>\n",
       "      <td>70.000000</td>\n",
       "    </tr>\n",
       "    <tr>\n",
       "      <th>mean</th>\n",
       "      <td>17856.457143</td>\n",
       "      <td>164.461429</td>\n",
       "      <td>1104.742857</td>\n",
       "      <td>16.807143</td>\n",
       "      <td>95.163571</td>\n",
       "    </tr>\n",
       "    <tr>\n",
       "      <th>std</th>\n",
       "      <td>25289.653691</td>\n",
       "      <td>204.940464</td>\n",
       "      <td>86.611524</td>\n",
       "      <td>12.431626</td>\n",
       "      <td>15.002502</td>\n",
       "    </tr>\n",
       "    <tr>\n",
       "      <th>min</th>\n",
       "      <td>1283.000000</td>\n",
       "      <td>18.000000</td>\n",
       "      <td>814.000000</td>\n",
       "      <td>1.400000</td>\n",
       "      <td>65.040000</td>\n",
       "    </tr>\n",
       "    <tr>\n",
       "      <th>25%</th>\n",
       "      <td>3829.750000</td>\n",
       "      <td>43.450000</td>\n",
       "      <td>1073.500000</td>\n",
       "      <td>6.832500</td>\n",
       "      <td>86.242500</td>\n",
       "    </tr>\n",
       "    <tr>\n",
       "      <th>50%</th>\n",
       "      <td>7668.500000</td>\n",
       "      <td>88.900000</td>\n",
       "      <td>1132.000000</td>\n",
       "      <td>12.755000</td>\n",
       "      <td>94.925000</td>\n",
       "    </tr>\n",
       "    <tr>\n",
       "      <th>75%</th>\n",
       "      <td>18142.250000</td>\n",
       "      <td>172.050000</td>\n",
       "      <td>1172.750000</td>\n",
       "      <td>24.965000</td>\n",
       "      <td>103.292500</td>\n",
       "    </tr>\n",
       "    <tr>\n",
       "      <th>max</th>\n",
       "      <td>112775.000000</td>\n",
       "      <td>850.000000</td>\n",
       "      <td>1195.000000</td>\n",
       "      <td>51.000000</td>\n",
       "      <td>132.680000</td>\n",
       "    </tr>\n",
       "  </tbody>\n",
       "</table>\n",
       "</div>"
      ],
      "text/plain": [
       "       transient_spikes  transient_lifetime  transient_size  n_frequency  \\\n",
       "count         70.000000           70.000000       70.000000    70.000000   \n",
       "mean       17856.457143          164.461429     1104.742857    16.807143   \n",
       "std        25289.653691          204.940464       86.611524    12.431626   \n",
       "min         1283.000000           18.000000      814.000000     1.400000   \n",
       "25%         3829.750000           43.450000     1073.500000     6.832500   \n",
       "50%         7668.500000           88.900000     1132.000000    12.755000   \n",
       "75%        18142.250000          172.050000     1172.750000    24.965000   \n",
       "max       112775.000000          850.000000     1195.000000    51.000000   \n",
       "\n",
       "       spike_frequency  \n",
       "count        70.000000  \n",
       "mean         95.163571  \n",
       "std          15.002502  \n",
       "min          65.040000  \n",
       "25%          86.242500  \n",
       "50%          94.925000  \n",
       "75%         103.292500  \n",
       "max         132.680000  "
      ]
     },
     "execution_count": 136,
     "metadata": {},
     "output_type": "execute_result"
    }
   ],
   "source": [
    "df.describe()"
   ]
  },
  {
   "cell_type": "code",
   "execution_count": 137,
   "metadata": {},
   "outputs": [],
   "source": [
    "transient_lifetime_lst = df.transient_lifetime.tolist()\n",
    "transient_size_lst = df.transient_size.tolist()\n",
    "transient_spikes_lst = df.transient_spikes.tolist()"
   ]
  },
  {
   "cell_type": "markdown",
   "metadata": {},
   "source": [
    "## 2. Inspect distributions"
   ]
  },
  {
   "cell_type": "markdown",
   "metadata": {},
   "source": [
    "### Estimate the parameters $x_{min}$ and $\\alpha$\n",
    "\n",
    "### Identify the scaling range \n",
    "\n",
    "We have to determine what part of the data to fit. We want to know: from what minimal value $x_{min}$ does the scaling relationship of the power law begins. Clauset et al. (2009) find the optimal starting value by taking the one with the shortest Kolmogorov-Smirnov distance between the data and the fit.\n",
    "\n",
    "- we can also hand pick an `xmin` by looking at the minimum value in the list\n",
    "\n",
    "\n",
    "### Comparing the fit of distributions\n",
    "\n",
    "Philosophically, it is frequently insufficient and unnecessary to answer the question of whether a distribution “really” follows a power law. Instead the question is whether a power law is the best description available. It is generally more sound and useful to compare the fits of many candidate distributions, and identify which one fits the best.\n",
    "\n",
    "The goodness of fit of these distributions must be evaluated before concluding that a power law is a good description of the data. The goodness of fit for each distribution can be considered individually or by comparison to the fit of other distributions (respectively, using bootstrapping and the Kolmogorov-Smirnov test to generate a p-value for an individual fit vs. using loglikelihood ratios to identify which of two fits is better) [5]. There are several reasons, both practical and philosophical, to focus on the latter, comparative tests. ()"
   ]
  },
  {
   "cell_type": "markdown",
   "metadata": {},
   "source": [
    "### 2.1 Transient lifetime"
   ]
  },
  {
   "cell_type": "code",
   "execution_count": 139,
   "metadata": {},
   "outputs": [
    {
     "name": "stdout",
     "output_type": "stream",
     "text": [
      "18.0\n"
     ]
    },
    {
     "data": {
      "image/png": "[encoded data removed]",
      "text/plain": [
       "<Figure size 432x288 with 1 Axes>"
      ]
     },
     "metadata": {},
     "output_type": "display_data"
    }
   ],
   "source": [
    "# pick the data\n",
    "data = transient_lifetime_lst\n",
    "x_label = 'transient lifetime (ms)'\n",
    "\n",
    "print(min(data))\n",
    "\n",
    "plt.hist(data)\n",
    "plt.xlabel(x_label)\n",
    "plt.ylabel('# experiments');"
   ]
  },
  {
   "cell_type": "code",
   "execution_count": 147,
   "metadata": {
    "scrolled": false
   },
   "outputs": [
    {
     "name": "stdout",
     "output_type": "stream",
     "text": [
      "estimate of alpha: 1.6281759109721297\n",
      "estimate of x min: 20.0\n"
     ]
    }
   ],
   "source": [
    "fit = powerlaw.Fit(data, xmin=20)\n",
    "\n",
    "print(f'estimate of alpha: {fit.power_law.alpha}')\n",
    "print(f'estimate of x min: {fit.power_law.xmin}')"
   ]
  },
  {
   "cell_type": "code",
   "execution_count": 148,
   "metadata": {},
   "outputs": [
    {
     "name": "stdout",
     "output_type": "stream",
     "text": [
      "loglikelihood ratio between the two distributions: -9.759704614181231\n",
      "p value: 0.002261365866079696\n"
     ]
    }
   ],
   "source": [
    "R, p = fit.distribution_compare('power_law', 'lognormal')\n",
    "\n",
    "print(f'loglikelihood ratio between the two distributions: {R}')\n",
    "print(f'p value: {p}')"
   ]
  },
  {
   "cell_type": "code",
   "execution_count": 149,
   "metadata": {
    "scrolled": true
   },
   "outputs": [
    {
     "data": {
      "image/png": "[encoded data removed]",
      "text/plain": [
       "<Figure size 432x288 with 1 Axes>"
      ]
     },
     "metadata": {},
     "output_type": "display_data"
    }
   ],
   "source": [
    "ax = plt.axes(xscale='log', yscale='log')\n",
    "ax.grid(True);\n",
    "\n",
    "fit.distribution_compare('power_law', 'lognormal')\n",
    "fig = fit.plot_ccdf(linewidth=3, label='Empirical Data')\n",
    "fit.power_law.plot_ccdf(ax=fig, color='r', linestyle='--', label='Power law fit')\n",
    "fit.lognormal.plot_ccdf(ax=fig, color='g', linestyle='--', label='Lognormal fit')\n",
    "####\n",
    "fig.set_ylabel(\"P(lifetime)\")\n",
    "fig.set_xlabel(x_label)\n",
    "handles, labels = fig.get_legend_handles_labels()\n",
    "fig.legend(handles, labels, loc=3);"
   ]
  },
  {
   "cell_type": "code",
   "execution_count": 150,
   "metadata": {},
   "outputs": [
    {
     "data": {
      "image/png": "[encoded data removed]",
      "text/plain": [
       "<Figure size 432x288 with 1 Axes>"
      ]
     },
     "metadata": {},
     "output_type": "display_data"
    }
   ],
   "source": [
    "ax = plt.axes(xscale='log', yscale='log')\n",
    "ax.grid(True);\n",
    "fit.power_law.plot_pdf(linestyle='--', color='g', label='exponential')\n",
    "fit.exponential.plot_pdf(linestyle='--', color='r', label='power law')\n",
    "fit.plot_pdf(linewidth=2, label='my data');\n",
    "plt.legend();\n",
    "plt.ylabel(\"P(lifetime)\")\n",
    "plt.xlabel(x_label);"
   ]
  },
  {
   "cell_type": "markdown",
   "metadata": {},
   "source": [
    "### 2.3 Compare different distributions"
   ]
  },
  {
   "cell_type": "markdown",
   "metadata": {},
   "source": [
    "$R$ is the loglikelihood ratio between the two candidate distributions. The likelihood-ratio test assesses the **goodness of fit** of two competing statistical models based on the ratio of their likelihoods.\n",
    "\n",
    "This number will be positive if the data is more likely in the first distribution, and negative if the data is more likely in the second distribution. The significance value for that direction is $p$. The normalized_ratio option normalizes $R$ by its standard deviation, . The normalized ratio is what is directly used to calculate p.\n",
    "\n",
    "- If $R > 0$, the data is more likely in the first distribution, and $R < 0$ if the data is more likely in the second distribution.\n",
    "- $p$ - The significance of the sign of R. If below a critical value (typically .05) the sign of R is taken to be significant. If above the critical value the sign of R is taken to be due to statistical fluctuations."
   ]
  },
  {
   "cell_type": "markdown",
   "metadata": {},
   "source": [
    "## Testing the power law hypothesis\n",
    "### 2.4 Goodness of fit tests\n",
    "\n",
    "- now we want to know whether the power law is a plausible fit to the data\n",
    "- we use goodness of fit tests, which generate a $p$ value that quantifies the plausibility of the hypothesis. These tests are based on the \"distance\" between the distributed of the empircal data and the hypothesised model.\n",
    "\n",
    "If $p$ is large (close to 1), then the difference between the empirical data and the model can be attributed to sta- tistical fluctuations alone; if it is small, the model is not a plausible fit to the data.\n",
    "\n",
    "Method\n",
    "\n",
    "1. fit our empirical data to the power-law model using the methods of section 3 and calculate the KS statistic for this fit.\n",
    "2. we generate a large number of power-law distributed synthetic data sets with scaling parameter $α$ and lower bound $xmin$ equal to those of the distribution that best fits the observed data. \n",
    "3. We fit each synthetic data set individually to its own power-law model and calculate the KS statistic for each one relative to its own model. \n",
    "4. Then we simply count the fraction of the time that the resulting statistic is larger than the value for the empirical data. This fraction is our p-value."
   ]
  },
  {
   "cell_type": "markdown",
   "metadata": {},
   "source": [
    "### 2.2 Transient spikes\n"
   ]
  },
  {
   "cell_type": "code",
   "execution_count": 151,
   "metadata": {},
   "outputs": [
    {
     "name": "stdout",
     "output_type": "stream",
     "text": [
      "1283\n"
     ]
    },
    {
     "data": {
      "image/png": "[encoded data removed]",
      "text/plain": [
       "<Figure size 432x288 with 1 Axes>"
      ]
     },
     "metadata": {},
     "output_type": "display_data"
    }
   ],
   "source": [
    "data = transient_spikes_lst\n",
    "x_label = 'transient spikes'\n",
    "\n",
    "print(min(data))\n",
    "\n",
    "plt.hist(data, color='r')\n",
    "plt.xlabel(x_label)\n",
    "plt.ylabel('# experiments');"
   ]
  },
  {
   "cell_type": "code",
   "execution_count": 153,
   "metadata": {
    "scrolled": true
   },
   "outputs": [
    {
     "name": "stdout",
     "output_type": "stream",
     "text": [
      "estimate of alpha: 1.9148649079810816\n",
      "estimate of x min: 6440.0\n"
     ]
    },
    {
     "name": "stderr",
     "output_type": "stream",
     "text": [
      "Calculating best minimal value for power law fit\n",
      "/home/nest/.local/lib/python3.6/site-packages/powerlaw.py:700: RuntimeWarning:invalid value encountered in true_divide\n"
     ]
    }
   ],
   "source": [
    "fit = powerlaw.Fit(data)\n",
    "\n",
    "print(f'estimate of alpha: {fit.power_law.alpha}')\n",
    "print(f'estimate of x min: {fit.power_law.xmin}')"
   ]
  },
  {
   "cell_type": "code",
   "execution_count": 154,
   "metadata": {},
   "outputs": [
    {
     "name": "stdout",
     "output_type": "stream",
     "text": [
      "loglikelihood ratio between the two distributions: -1.449017693881924\n",
      "p value: 0.2575474350489889\n"
     ]
    },
    {
     "name": "stderr",
     "output_type": "stream",
     "text": [
      "/home/nest/.local/lib/python3.6/site-packages/powerlaw.py:700: RuntimeWarning:invalid value encountered in true_divide\n"
     ]
    }
   ],
   "source": [
    "R, p = fit.distribution_compare('power_law', 'lognormal')\n",
    "\n",
    "print(f'loglikelihood ratio between the two distributions: {R}')\n",
    "print(f'p value: {p}')"
   ]
  },
  {
   "cell_type": "code",
   "execution_count": 155,
   "metadata": {},
   "outputs": [
    {
     "data": {
      "image/png": "[encoded data removed]",
      "text/plain": [
       "<Figure size 432x288 with 1 Axes>"
      ]
     },
     "metadata": {},
     "output_type": "display_data"
    }
   ],
   "source": [
    "####\n",
    "ax = plt.axes(xscale='log', yscale='log')\n",
    "ax.grid(True);\n",
    "\n",
    "fit.distribution_compare('power_law', 'lognormal')\n",
    "fig = fit.plot_ccdf(linewidth=3, label='Empirical Data')\n",
    "fit.power_law.plot_ccdf(ax=fig, color='r', linestyle='--', label='Power law fit')\n",
    "fit.lognormal.plot_ccdf(ax=fig, color='g', linestyle='--', label='Lognormal fit')\n",
    "####\n",
    "fig.set_ylabel(\"P(transient spikes)\")\n",
    "fig.set_xlabel(x_label)\n",
    "handles, labels = fig.get_legend_handles_labels()\n",
    "fig.legend(handles, labels, loc=3);"
   ]
  },
  {
   "cell_type": "code",
   "execution_count": 156,
   "metadata": {},
   "outputs": [
    {
     "name": "stderr",
     "output_type": "stream",
     "text": [
      "/home/nest/.local/lib/python3.6/site-packages/powerlaw.py:700: RuntimeWarning:invalid value encountered in true_divide\n"
     ]
    },
    {
     "data": {
      "image/png": "[encoded data removed]",
      "text/plain": [
       "<Figure size 432x288 with 1 Axes>"
      ]
     },
     "metadata": {},
     "output_type": "display_data"
    }
   ],
   "source": [
    "ax = plt.axes(xscale='log', yscale='log')\n",
    "ax.grid(True);\n",
    "fit.power_law.plot_pdf(linestyle='--', color='g', label='exponential')\n",
    "fit.exponential.plot_pdf(linestyle='--', color='r', label='power law')\n",
    "fit.plot_pdf(linewidth=2, label='my data');\n",
    "plt.legend();\n",
    "plt.xlabel(x_label);"
   ]
  },
  {
   "cell_type": "markdown",
   "metadata": {},
   "source": [
    "### 2.3 Transient size"
   ]
  },
  {
   "cell_type": "code",
   "execution_count": 157,
   "metadata": {},
   "outputs": [
    {
     "data": {
      "text/plain": [
       "814"
      ]
     },
     "execution_count": 157,
     "metadata": {},
     "output_type": "execute_result"
    }
   ],
   "source": [
    "data = transient_size_lst\n",
    "\n",
    "min(data)"
   ]
  },
  {
   "cell_type": "code",
   "execution_count": 158,
   "metadata": {},
   "outputs": [
    {
     "data": {
      "image/png": "[encoded data removed]",
      "text/plain": [
       "<Figure size 432x288 with 1 Axes>"
      ]
     },
     "metadata": {},
     "output_type": "display_data"
    }
   ],
   "source": [
    "plt.hist(data, color='g')\n",
    "plt.xlabel('transient lifetime (ms)')\n",
    "plt.ylabel('# experiments');"
   ]
  },
  {
   "cell_type": "code",
   "execution_count": null,
   "metadata": {},
   "outputs": [],
   "source": []
  },
  {
   "cell_type": "code",
   "execution_count": null,
   "metadata": {},
   "outputs": [],
   "source": []
  },
  {
   "cell_type": "code",
   "execution_count": null,
   "metadata": {},
   "outputs": [],
   "source": []
  },
  {
   "cell_type": "markdown",
   "metadata": {},
   "source": [
    "## Resources\n",
    "\n",
    "- [Power laws in empirical data](https://arxiv.org/abs/0706.1062), Clauset et al., 2009\n",
    "\n",
    "- [Quanta magazine 'Power laws in real world networks'](https://www.quantamagazine.org/scant-evidence-of-power-laws-found-in-real-world-networks-20180215/)\n",
    "\n",
    "- [powerlaw toolbox](https://github.com/jeffalstott/powerlaw) and [powerlaw paper explaining their code](https://journals.plos.org/plosone/article?id=10.1371/journal.pone.0085777) \n",
    "\n",
    "- [scale free](https://blogs.cornell.edu/info2040/2018/09/17/scale-free-networks-are-rare/) + [scale free paper](https://arxiv.org/abs/1801.03400)"
   ]
  },
  {
   "cell_type": "markdown",
   "metadata": {},
   "source": [
    "## Functions"
   ]
  },
  {
   "cell_type": "code",
   "execution_count": 1,
   "metadata": {},
   "outputs": [],
   "source": [
    "# nest\n",
    "import powerlaw\n",
    "import nest\n",
    "import nest.raster_plot\n",
    "import nest.voltage_trace\n",
    "# other\n",
    "import pandas as pd\n",
    "import os\n",
    "import json\n",
    "import time \n",
    "import timeit\n",
    "import itertools\n",
    "import numpy as np\n",
    "from importlib import reload \n",
    "from itertools import permutations \n",
    "from itertools import combinations \n",
    "import matplotlib.pyplot as plt\n",
    "import seaborn as sns\n",
    "\n",
    "# set the path \n",
    "path = 'data/'\n",
    "# seed \n",
    "np.random.seed(0)\n",
    "\n",
    "import SimulationClass as simu\n",
    "\n",
    "# update changes made in python script\n",
    "reload(simu);\n",
    "\n",
    "H = simu.HelperFuncs()\n",
    "\n",
    "patterns = []\n",
    "# make permutations for 8 bit pattern\n",
    "for perm in H.make_permutations():\n",
    "    patterns.append(perm)\n",
    "\n",
    "\n",
    "def set_params(NE=960, NI=240, J_ex=6., J_in=-95., eps=0.1, stim_end=150., sub_fr=0.9, sup_fr=1.1,\n",
    "              C_m=250.0, g_L=16.7, t_ref=2.0):\n",
    "\n",
    "    # general simulation parameters\n",
    "    sim_params = {\n",
    "\n",
    "        'N_total':1200,\n",
    "        'NE': 960, # Default: 4/5 are exci neurons, 1/5 are inh neurons\n",
    "        'NI': 240,\n",
    "        'J_ex':6.0, # note the big difference between the strength of ex synapses and inh synapses\n",
    "        'J_in':-95.0,\n",
    "        'eps':0.1,  # connection probability\n",
    "        'resolution':0.1,  # temporal resolution of simulation in ms. Kumar2008: 0.1\n",
    "        'delay':1.5,  # synaptic delay in the network\n",
    "        'n_threads':8,\n",
    "        'stim_start':0., # start applying current (dc)\n",
    "        'stim_end':150., # end applying current (dc)\n",
    "        'simtime':1000., # simulation time \n",
    "        'sub_fr':0.9, # subthreshold current amplitude\n",
    "        'sup_fr':1.01, # suprathreshold current amplitude\n",
    "    }\n",
    "    \n",
    "    # set neuron parameters\n",
    "    neuron_params = {\n",
    "        'C_m': 250.0,\n",
    "        'E_L': -70.0,\n",
    "        'E_ex': 0.0,\n",
    "        'E_in': -80.0,\n",
    "        'I_e': 0.0,\n",
    "        'V_reset': -70.0,\n",
    "        'V_th': -50.0,\n",
    "        'g_L': 16.7,\n",
    "        't_ref': 2.0, # Duration of refractory period\n",
    "        'tau_syn_ex': 0.326, # Rise time of the excitatory synaptic alpha function\n",
    "        'tau_syn_in': 0.326,\n",
    "    }\n",
    "    \n",
    "    # adapt simulation params\n",
    "    sim_params['NE'] = NE\n",
    "    sim_params['NI'] = NI\n",
    "    sim_params['J_ex'] = J_ex\n",
    "    sim_params['J_in'] = J_in\n",
    "    sim_params['eps'] = eps\n",
    "    sim_params['stim_end'] = stim_end\n",
    "    sim_params['sub_fr'] = sub_fr\n",
    "    sim_params['sup_fr'] = sup_fr\n",
    "    \n",
    "    # adapt neuron params\n",
    "    neuron_params['C_m'] = C_m\n",
    "    neuron_params['g_L'] = g_L\n",
    "    neuron_params['t_ref'] = t_ref\n",
    "    \n",
    "    return sim_params, neuron_params\n",
    "\n",
    "\n",
    "def simulate(patterns, sim_params, neuron_params):\n",
    "    '''\n",
    "    uses the SimulationClass to run a simulation.\n",
    "    Each simulation consists stimulating the network in 70 different ways, each time stimulating 50% \n",
    "    of the neurons with a supra threshold current, 50% with a sub threshold current. \n",
    "    \n",
    "    Returns\n",
    "    spike_times_arr: array with the exact timings neurons spiked.\n",
    "    spike_neurons_arr: array with indices of spiking neurons.\n",
    "    '''\n",
    "    \n",
    "    # initialise classes\n",
    "    udp = simu.UpDownPatterns(sim_params, neuron_params)\n",
    "    \n",
    "    # make lists\n",
    "    spike_times_lst = []\n",
    "    spike_neurons_lst = []\n",
    "    multimeters = []\n",
    "    spikedetectors = []\n",
    "\n",
    "    # time duration\n",
    "    start = time.time()\n",
    "\n",
    "    for i, pattern in enumerate(patterns):\n",
    "        label = H.list2str(pattern)\n",
    "        multimet, spikedet, spike_times, spike_neurons = udp.simulate(pattern)\n",
    "\n",
    "        # convert to python lists \n",
    "        spike_times.tolist()\n",
    "        spike_neurons.tolist()\n",
    "\n",
    "        spike_times_lst.append(spike_times)\n",
    "        spike_neurons_lst.append(spike_neurons)\n",
    "        multimeters.append(multimet)\n",
    "        spikedetectors.append(spikedet)\n",
    "\n",
    "    end = time.time()\n",
    "    print(f'Simulation done! time: {round(end-start)} seconds')\n",
    "\n",
    "    # convert to np arrays\n",
    "    spike_times_arr = np.array(spike_times_lst)\n",
    "    spike_neurons_arr = np.array(spike_neurons_lst)\n",
    "    \n",
    "    return spike_times_arr, spike_neurons_arr\n",
    "\n",
    "def get_transient_data(spike_times_arr, spike_neurons_arr, sim_params):\n",
    "    '''\n",
    "    Uses the information from the simulation run to get information about the transient.\n",
    "    '''\n",
    "    transient_spikes = []\n",
    "    transient_lifetime = []\n",
    "    transient_uniquen = []\n",
    "    transient_time_arr = []\n",
    "    \n",
    "    stim_end = sim_params['stim_end']\n",
    "    \n",
    "    for trial in range(len(spike_times_arr)):\n",
    "\n",
    "        # select data from experiment / trial\n",
    "        times = spike_times_arr[trial]\n",
    "        neurons = spike_neurons_arr[trial]\n",
    "\n",
    "        # === number of spikes ===\n",
    "        num_trans_spikes = sum(1*(times > stim_end))\n",
    "        transient_spikes.append(num_trans_spikes)\n",
    "\n",
    "        # === transient lifetime ===\n",
    "        transient_time = times[times > stim_end]\n",
    "        transient_time_arr.append(transient_time)\n",
    "\n",
    "        if num_trans_spikes == 0:\n",
    "            transient_lifetime.append(0)\n",
    "        else:\n",
    "            t_dur = round(max(transient_time_arr[trial]) - stim_end,2)\n",
    "            transient_lifetime.append(t_dur)\n",
    "\n",
    "        # === transient_size ===\n",
    "        transients = 1*(times > stim_end)\n",
    "        transient_indices = np.argwhere(transients)\n",
    "        # take the neurons from these indices\n",
    "        active_neurons = np.unique(neurons[transient_indices])\n",
    "        transient_uniquen.append(active_neurons)\n",
    "\n",
    "    transient_size = [len(i) for i in transient_uniquen]\n",
    "    \n",
    "    return transient_spikes, transient_lifetime, transient_size\n",
    "\n",
    "\n",
    "def get_metrics(transient_size, transient_lifetime):\n",
    "    \n",
    "    df = pd.DataFrame({'transient_size':transient_size, 'transient_lifetime':transient_lifetime})\n",
    "    means = df.mean().tolist()\n",
    "    maxs = df.max().tolist()\n",
    "    stds = df.std().tolist()\n",
    "    \n",
    "    return means, maxs, stds\n",
    "\n",
    "\n",
    "def plot(transient_means, transient_maxs, x_axis_name, parameter_range):\n",
    "    '''\n",
    "    takes in a list of transient means and max values, name for the x_axis (the parameter value that is being changed) \n",
    "    and the range of parameter values used.\n",
    "    \n",
    "    Plots the graphs.\n",
    "    '''\n",
    "    \n",
    "    \n",
    "    # [mean transient size, mean transient lifetime]\n",
    "\n",
    "    trans_size_means = [i[0] for i in transient_means]\n",
    "    trans_lifetime_means = [i[1] for i in transient_means]\n",
    "\n",
    "    trans_size_maxs = [item[0] for item in transient_maxs]\n",
    "    trans_lifetime_maxs = [item[1] for item in transient_maxs]\n",
    "\n",
    "    # === Plot ===\n",
    "    fig, (ax1, ax2) = plt.subplots(1, 2, figsize=(15,5))\n",
    "    ax1.plot(parameter_range, trans_size_maxs, '--ro', label ='max transient size');\n",
    "    ax1.plot(parameter_range, trans_size_means, '--bo', label='mean transient size');\n",
    "    ax1.set_xlabel(x_axis_name)\n",
    "    ax1.set_ylabel('transient size (neurons)')\n",
    "    ax1.legend();\n",
    "\n",
    "    ax2.plot(parameter_range, trans_lifetime_maxs, '--ro', label ='max transient times');\n",
    "    ax2.plot(parameter_range, trans_lifetime_means, '--bo', label='mean transient times');\n",
    "    ax2.set_xlabel(x_axis_name);\n",
    "    ax2.set_ylabel('transient lifetime (ms)')\n",
    "    ax2.legend();"
   ]
  },
  {
   "cell_type": "code",
   "execution_count": null,
   "metadata": {},
   "outputs": [],
   "source": []
  },
  {
   "cell_type": "code",
   "execution_count": null,
   "metadata": {},
   "outputs": [],
   "source": []
  },
  {
   "cell_type": "code",
   "execution_count": null,
   "metadata": {},
   "outputs": [],
   "source": []
  },
  {
   "cell_type": "code",
   "execution_count": null,
   "metadata": {},
   "outputs": [],
   "source": []
  },
  {
   "cell_type": "code",
   "execution_count": null,
   "metadata": {},
   "outputs": [],
   "source": []
  }
 ],
 "metadata": {
  "kernelspec": {
   "display_name": "Python 3",
   "language": "python",
   "name": "python3"
  },
  "language_info": {
   "codemirror_mode": {
    "name": "ipython",
    "version": 3
   },
   "file_extension": ".py",
   "mimetype": "text/x-python",
   "name": "python",
   "nbconvert_exporter": "python",
   "pygments_lexer": "ipython3",
   "version": "3.6.9"
  }
 },
 "nbformat": 4,
 "nbformat_minor": 2
}
