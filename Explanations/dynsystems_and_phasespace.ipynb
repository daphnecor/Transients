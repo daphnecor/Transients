{
 "cells": [
  {
   "cell_type": "markdown",
   "metadata": {},
   "source": [
    "## [UNDER CONSTRUCTION] \n",
    "## Understanding dynamical systems, phase space and trajectories\n",
    "\n",
    "This notebook covers an informal introduction to dynamical systems and some examples in 1D and 2D."
   ]
  },
  {
   "cell_type": "markdown",
   "metadata": {},
   "source": [
    "### Terminology\n",
    "- **nullcline.** points in space where the value of a variable does not change with time.\n",
    "- **phase portrait.** a plot of a vector field that shows how the solutions to these equations will evolve from a given starting point.\n",
    "- **autonomous system.** when all parameters are constant.\n",
    "- **non autonomous system.** when one or more parameters are time dependent (denoted at $\\dot x = f(x,t)$\n",
    "- **state variable.** variables that fully define the state of a system. \n",
    "\n",
    "### Differential equations\n",
    "\n",
    "> \"The only thing constant in life, is that everything changes.\"\n",
    "\n",
    "... Its true, thats why we have differential equations!\n",
    "\n",
    "Differential equations are used to study how (physical) systems change. Ordinary differential equations are used to study how something changes as a function of time. They involve unknown functions and derivatives, so a solution to an ODE is a function that makes it correct.\n",
    "\n",
    "\n",
    "### Biological systems\n",
    "\n",
    "Biological systems are not linear in general, but thats okay because we can use linear models to approximate these more complex systems. \n",
    "\n",
    "\n",
    "### Dynamical Systems\n",
    "\n",
    "The goal of dynamical systems theory is to understand why and *how* the behaviour depends on the *initial conditions* and the *parameters* of the system.\n",
    "\n",
    "Dynamical systems can be continous or discrete, depending on what you use to describe them. Continuous 1D dynamical systems are usually written in this form:\n",
    "\n",
    "$$\n",
    "\\dot x = f(x) , \\qquad x(0)= x_0 \\in \\mathbb{R}\n",
    "$$\n",
    "where $x$ is a scalar variable that changes over time, it described the current state of the system. $\\dot x$ is the derivative of $x$ w.r.t time $t$, $f$ is a scalar function (meaning its output is just a number) that determines how the system changes over time; the evolution of the system. \n",
    "\n",
    "$x_0$ is the initial condition, where your system starts out. $\\mathbb{R}$ is a line of real numbers, which is called the *phase line* or *state line*. \n",
    "\n",
    "In the context of neural dynamics we have\n",
    "\n",
    "$$\n",
    "\\dot V = F(V), \\qquad V(0)= V_0 \\in \\mathbb{R}\n",
    "$$\n",
    "\n",
    "Where $V$ is the membrane potential and $F(V)$ the steady state I-V curve.\n",
    "\n",
    "In the 4D Hodgkin Huxley model for example, the **state** of the HH model is captured in a 4 dimensional vector\n",
    "\n",
    "$$\n",
    "\\mathbf{s} =  \\begin{bmatrix}\n",
    "    V \\\\\n",
    "    m \\\\\n",
    "    n \\\\\n",
    "    h \n",
    "\\end{bmatrix}\n",
    "$$\n",
    "\n",
    "To solve a differential equation means to find a function $x(t)$ whose initial value is $x(0) = x_0$ and whose derivative is $f(x(t))$ at each moment $t>0$.\n",
    "\n",
    "Solving differential equations is very hard, if not impossible sometimes. Luckily, we don't actually need to solve it. Because we are interested in how the system *behaves* and how changing the parameters and state will change its trajectory. As long as we can display this approximation of the qualitative behaviour, we are happy.\n",
    "\n",
    "\n",
    "### Geometric analysis\n",
    "\n",
    "When analysing a dynamical system, step 1 is to plot the graph of the function $f$.\n",
    "\n",
    "<div>\n",
    "<img src=http://drive.google.com/uc?export=view&id=1DqcOuFHZI9XUv7IxHSUxGYyBwlW9nuFB width=\"500\">\n",
    "</div>\n",
    "\n",
    "1D dynamical systems are systems with only one variable.\n",
    "\n",
    "- Since $f(x) = \\dot x$ , the change in x over time, at every point where $x$ where $f(x)$ is negative, the derivative is negative and thus the state variable x decreases. \n",
    "- At each point where f(x) is positive, the rate of change is positive, so the state variable x increases. \n",
    "\n",
    "The direction of movement of the state variable $x$, and thus the evolution of the dynamical system, is determined by the sign of the function $f(x)$.\n",
    "\n",
    "### Finding equilibria \n",
    "\n",
    "Next, we want to find the equilibria, or rest points of the system. These are the values of the state variable where \n",
    "$$\n",
    "f(x) = 0 \\qquad (x \\text{ is an equilibrium})\n",
    "$$\n",
    "\n",
    "At each point where $\\dot x = 0$, x doesn't change. You can think of these points as equilibria, where the inward and outwards currents balance each other out.\n",
    "\n",
    "<div>\n",
    "<img src=https://www.researchgate.net/profile/Alexander_Konyukhov/publication/320216159/figure/fig4/AS:545994494275584@1507186639069/position-of-mass-point-a-Positive-static-stability-stable-equilibrium-b-Negative.png\n",
    " width=\"500\">\n",
    "</div>\n",
    "\n",
    "\n",
    "Equilibria can be stable or unstable. A stable equilibrium is a pendulum that, when giving it a nudge, will eventually return to an angle of 0.\n",
    "An unstable equilibrium on the other hand is more like a pencil that is balancing on its tip. One small movement and it will fall down. \n",
    "\n",
    "Whether the equilibrium is stable or unstable is determined by the slope of the graph, $f'(x)$. If graph goes from positive to negative, the equilibrium is stable.\n",
    "\n",
    "<div>\n",
    "<img src=http://drive.google.com/uc?export=view&id=19cK8VURqaPnmPSPAdB8Oa-zJt8t8F6eC width=\"500\">\n",
    "</div>\n",
    "\n",
    "Systems that have two or multiple attractors that coexist at the same time are called bistable or multistable respectively. \n",
    "\n",
    "### Examples of 1D systems\n",
    "\n",
    "- leaky current \n",
    "$$\n",
    "I_L = C \\dot V = -g_L (V-E_L) \\qquad(1.)\n",
    "$$\n",
    "\n",
    "where the only variable is voltage and the rest are parameters (constants).\n",
    "\n",
    "- The Fitzhugh-Nagumo equation (nonlinear)\n",
    "\n",
    "$$\n",
    "\\frac{dv}{dt} = v(t) - \\frac{1}{3}v(t)^3\n",
    "$$\n",
    "\n",
    "### Phase portraits\n",
    "\n",
    "The phase portrait is an essential tool for analysing a dynamical system. It depicts all the stable and unstable equilibria and allows you to infer the trajectory of a system over time, given the initial state.\n",
    "\n"
   ]
  },
  {
   "cell_type": "code",
   "execution_count": 3,
   "metadata": {},
   "outputs": [],
   "source": [
    "# import dependencies\n",
    "import numpy as np\n",
    "from scipy.integrate import odeint\n",
    "import matplotlib.pyplot as plt\n",
    "from scipy import optimize"
   ]
  },
  {
   "cell_type": "markdown",
   "metadata": {},
   "source": [
    "# Example 1: Chemistry\n",
    "\n",
    "(This python example is based on the brilliant.org course [\"Differential equations I\"](https://brilliant.org/practice/weve-got-chemistry-modeling/?p=2))\n",
    "\n",
    "Chemistry studies reactions of matter. Say we have two reactants, $A$ and $B$, that they produce a product $X$. We want to know how the amount of product, $X$,changes over time. \n",
    "\n",
    "$$\n",
    "[A] + [B] \\rightarrow [X] \\\\\n",
    "O + O_3 \\rightarrow 2O_2\n",
    "$$\n",
    "\n",
    "![](https://ds055uzetaobb.cloudfront.net/brioche/uploads/kYXJm5Sup3-group-13.png?width=250)\n",
    "\n",
    "We obtain the following differential equation, as a function of time. \n",
    "$$\n",
    "\\frac{dx}{dt} = k[a-x(t)][b-x(t)]\\,\\,, \\,x(0) = 0\n",
    "$$\n",
    "\n",
    "where the constant solutions ($\\dot x = 0$) are $x(t)=a$ and $x(t)=b$\n",
    "\n",
    "This is a **first-order *autonomous* differential equation**, meaning the independent variable doesn't explicitly appear in the equation.\n",
    "\n",
    "--- \n"
   ]
  },
  {
   "cell_type": "code",
   "execution_count": 11,
   "metadata": {},
   "outputs": [],
   "source": [
    "# define physical parameters (reactants)\n",
    "a = 5\n",
    "b = 3\n",
    "k = 2 # some constant\n",
    "\n",
    "# initial values \n",
    "X_0 = 6 # initial amount of product\n",
    "X_DOT_0 = 0 # initial change of product"
   ]
  },
  {
   "cell_type": "markdown",
   "metadata": {},
   "source": [
    "## 1.1 Plot the phase line\n",
    "\n",
    "A phase portrait is a tool to understand the behaviour of an autonomous first-order differential equation $\\dot x = f(x(t))$\n",
    "- the roots of $f$ are equilibria (constant solutions)\n",
    "- arrows show where the solutions tend to and tell whether the equilibria are stable or unstable"
   ]
  },
  {
   "cell_type": "code",
   "execution_count": 12,
   "metadata": {},
   "outputs": [],
   "source": [
    "def phase_line(x_array):\n",
    "    '''\n",
    "    calculates the y coordinates for \n",
    "    a given function and input array\n",
    "    '''\n",
    "    y_coordinates = []\n",
    "    for i in range(len(x_array)):\n",
    "        x = x_array[i]\n",
    "        f_x = k*(a-x)*(b-x)\n",
    "        y_coordinates.append(f_x)\n",
    "    \n",
    "    return y_coordinates\n",
    "\n",
    "x_array = np.linspace(-20,40,100)\n",
    "y = phase_line(x_array) \n",
    "\n",
    "# find roots of the function\n",
    "r = optimize.root(phase_line, 1) # pass in function, initial guess\n",
    "r2 = optimize.root(phase_line, 4) \n",
    "roots = np.array([r.x, r2.x])"
   ]
  },
  {
   "cell_type": "code",
   "execution_count": 13,
   "metadata": {},
   "outputs": [
    {
     "data": {
      "image/png": "[encoded data removed]",
      "text/plain": [
       "<Figure size 432x288 with 1 Axes>"
      ]
     },
     "metadata": {
      "needs_background": "light"
     },
     "output_type": "display_data"
    }
   ],
   "source": [
    "# plot the function\n",
    "plt.plot(x_array,y,'r',label='f(x)')\n",
    "# plot the roots\n",
    "plt.plot(roots, phase_line(roots),'kv', label=\"Roots\")\n",
    "xaxis = plt.axhline(0);\n",
    "yaxis = plt.axvline(0);\n",
    "plt.ylim(-20,40)\n",
    "plt.xlim(-10,10);\n",
    "plt.xlabel(r'$x$')\n",
    "plt.ylabel(r'$f(x)=k(a-x)(b-x)$')\n",
    "plt.title('Phase line');\n",
    "plt.legend();"
   ]
  },
  {
   "cell_type": "markdown",
   "metadata": {},
   "source": [
    "## 1.2 Solve the ODE"
   ]
  },
  {
   "cell_type": "code",
   "execution_count": 14,
   "metadata": {},
   "outputs": [],
   "source": [
    "def get_x_dot(x):\n",
    "    return k*(a-x)*(b-x)\n",
    "\n",
    "def get_x(t,x0):\n",
    "    xvalues = []\n",
    "    x_dot_values = []\n",
    "    x = x0\n",
    "    x_dot = X_DOT_0\n",
    "    delta_t = 0.1\n",
    "\n",
    "    for time in np.arange(0,t,delta_t): # start, stop, step\n",
    "        x_dot = get_x_dot(x)\n",
    "        x_dot_values.append(x_dot)\n",
    "        #print(f'x_dot: {x_dot}')\n",
    "        x += x_dot * delta_t\n",
    "        xvalues.append(x)\n",
    "        #print(f'x: {x}')\n",
    "    return x, xvalues, x_dot_values"
   ]
  },
  {
   "cell_type": "code",
   "execution_count": 15,
   "metadata": {},
   "outputs": [
    {
     "name": "stdout",
     "output_type": "stream",
     "text": [
      "[6, 11.519999999999996, 26.155007999999984, 79.09013287600123, 405.63770898688955, 6012.913714754806, 861015.5012225318, 15053790693.233541, 4.5328547125604977e+18, 4.109354396332615e+35]\n"
     ]
    }
   ],
   "source": [
    "# arguments: t final and initial value\n",
    "x, xvalues, x_dot_values = get_x(1,6)\n",
    "\n",
    "print(x_dot_values)"
   ]
  },
  {
   "cell_type": "markdown",
   "metadata": {},
   "source": [
    "## 1.3 Plot the trajectory for each initial condition\n",
    "\n",
    "The trajectory depends on the initial state $x_0$ of the system, if we start with the condition $x(0)>a>b>0$. \n",
    "\n",
    "Then what happens? $x$ will keep increasing.\n",
    "\n",
    "If $x_0 = \\frac{a+b}{2}$ the solution is concave up always.\n",
    "The trajectory of the system depends on the intial condition."
   ]
  },
  {
   "cell_type": "code",
   "execution_count": 16,
   "metadata": {},
   "outputs": [
    {
     "data": {
      "text/plain": [
       "Text(0.5, 0, 't')"
      ]
     },
     "execution_count": 16,
     "metadata": {},
     "output_type": "execute_result"
    },
    {
     "data": {
      "image/png": "[encoded data removed]",
      "text/plain": [
       "<Figure size 432x288 with 1 Axes>"
      ]
     },
     "metadata": {
      "needs_background": "light"
     },
     "output_type": "display_data"
    }
   ],
   "source": [
    "t0 = 0; tf = 10;\n",
    "\n",
    "t_points = np.array([0,1,2,3,4,5,6,7,8,9])\n",
    "\n",
    "# start with a few possible initial conditions to find their trajectories\n",
    "for x0 in np.arange(0,6,0.5): # start, stop, step\n",
    "  x,xvalues,x_dot_values = get_x(1, x0)\n",
    "  plt.plot(t_points,xvalues,'b',linewidth=1)\n",
    "\n",
    "# plot the equilibrium points\n",
    "# these are the points for which x_dot = 0\n",
    "plt.plot([t0,tf],[3,3],'r--', linewidth=2.5)\n",
    "plt.plot([t0,tf],[5,5],'r--', linewidth=2.5)\n",
    "\n",
    "plt.grid(True)\n",
    "plt.axis([0,6,0,10])\n",
    "plt.title(\"Equilibrium solutions\")\n",
    "plt.ylabel('x(t)')\n",
    "plt.xlabel('t')"
   ]
  },
  {
   "cell_type": "markdown",
   "metadata": {},
   "source": [
    "## 1.4. Interpretation"
   ]
  },
  {
   "cell_type": "code",
   "execution_count": null,
   "metadata": {},
   "outputs": [],
   "source": []
  },
  {
   "cell_type": "markdown",
   "metadata": {},
   "source": [
    "# One dimensional dynamical systems: the leaky integrate and fire"
   ]
  },
  {
   "cell_type": "code",
   "execution_count": null,
   "metadata": {},
   "outputs": [],
   "source": []
  },
  {
   "cell_type": "code",
   "execution_count": null,
   "metadata": {},
   "outputs": [],
   "source": []
  },
  {
   "cell_type": "code",
   "execution_count": null,
   "metadata": {},
   "outputs": [],
   "source": []
  },
  {
   "cell_type": "markdown",
   "metadata": {},
   "source": [
    "# Resources\n",
    "\n",
    "- Izhikevich - Dynamical Systems in Neuroscience\n",
    "- [Dynamical Systems in NS talk](https://www.youtube.com/watch?v=oz4l7gj0AjY&t=464s)\n",
    "- Brilliant.org, course on differential equations \n",
    "- Differential equations [page](https://www.math.ubc.ca/~pwalls/math-python/differential-equations/first-order/)"
   ]
  },
  {
   "cell_type": "code",
   "execution_count": null,
   "metadata": {},
   "outputs": [],
   "source": []
  }
 ],
 "metadata": {
  "kernelspec": {
   "display_name": "Python 3",
   "language": "python",
   "name": "python3"
  },
  "language_info": {
   "codemirror_mode": {
    "name": "ipython",
    "version": 3
   },
   "file_extension": ".py",
   "mimetype": "text/x-python",
   "name": "python",
   "nbconvert_exporter": "python",
   "pygments_lexer": "ipython3",
   "version": "3.6.9"
  }
 },
 "nbformat": 4,
 "nbformat_minor": 2
}
