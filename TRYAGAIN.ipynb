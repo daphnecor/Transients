{
 "cells": [
  {
   "cell_type": "markdown",
   "metadata": {},
   "source": [
    "- dc neuron example [here](https://nest-simulator.readthedocs.io/en/stable/auto_examples/brette_gerstner_fig_3d.html?highlight=dc_generator) [ and here](https://nest-simulator.readthedocs.io/en/stable/auto_examples/tsodyks_depressing.html?highlight=dc_generator#see-also)"
   ]
  },
  {
   "cell_type": "markdown",
   "metadata": {},
   "source": [
    "1. Set params\n",
    "2. Build network\n",
    "3. Set patterns\n",
    "4. Simulate"
   ]
  },
  {
   "cell_type": "code",
   "execution_count": 7,
   "metadata": {},
   "outputs": [],
   "source": [
    "# nest\n",
    "import nest\n",
    "import nest.raster_plot\n",
    "import nest.voltage_trace\n",
    "# other\n",
    "import pandas as pd\n",
    "import os\n",
    "import json\n",
    "import time \n",
    "import timeit\n",
    "import itertools\n",
    "import numpy as np\n",
    "from importlib import reload \n",
    "from itertools import permutations \n",
    "from itertools import combinations \n",
    "import matplotlib.pyplot as plt\n",
    "import seaborn as sns\n",
    "sns.set_style(\"white\")\n",
    "sns.set_palette(\"coolwarm\")"
   ]
  },
  {
   "cell_type": "markdown",
   "metadata": {},
   "source": [
    "# Parameters"
   ]
  },
  {
   "cell_type": "code",
   "execution_count": 8,
   "metadata": {},
   "outputs": [],
   "source": [
    "def set_params(NE=960, NI=240, J_ex=6., J_in=-95., eps=0.1, stim_end=150., sub_fr=0.9, sup_fr=1.1,\n",
    "              C_m=250.0, g_L=16.7, t_ref=2.0):\n",
    "    '''\n",
    "    Defines default parameter values and allows you to change the values for\n",
    "    \n",
    "    sim_params: general simulation parameters\n",
    "    model_params: value specifics for the LIF neuron model\n",
    "    synapse_params: parameter values using the STDP synapse\n",
    "    \n",
    "    '''\n",
    "\n",
    "    sim_params = {\n",
    "        \n",
    "        'N_total':1200,\n",
    "        'NE': 960, # Default: 4/5 are exci neurons, 1/5 are inh neurons\n",
    "        'NI': 240,\n",
    "        'eps':0.1,  # connection probability\n",
    "        'J_in':-96.0,\n",
    "        'J_ex':6.0,\n",
    "        'resolution':0.1,  # temporal resolution of simulation in ms. Kumar2008: 0.1\n",
    "        'delay':1.5,  # synaptic delay in the network\n",
    "        'n_threads':8,\n",
    "        'stim_start':0., # start applying current (dc)\n",
    "        'stim_end':150., # end applying current (dc)\n",
    "        'simtime':1000., # simulation time \n",
    "        'sub_fr':0.9, # subthreshold current amplitude\n",
    "        'sup_fr':1.01, # suprathreshold current amplitude\n",
    "    }\n",
    "\n",
    "    model_params = {\n",
    "        \n",
    "        'C_m': 250.0,\n",
    "        'E_L': -70.0,\n",
    "        'E_ex': 0.0,\n",
    "        'E_in': -80.0,\n",
    "        'I_e': 0.0,\n",
    "        'V_reset': -70.0,\n",
    "        'V_th': -50.0,\n",
    "        'g_L': 16.7,\n",
    "        't_ref': 2.0, # Duration of refractory period\n",
    "        'tau_syn_ex': 0.326, # Rise time of the excitatory synaptic alpha function\n",
    "        'tau_syn_in': 0.326,\n",
    "    }\n",
    "    \n",
    "    synapse_params_ex = {\n",
    "        'model':'stdp_synapse',\n",
    "        'lambda': 0.01,\n",
    "        'alpha': 1.0,\n",
    "        'delay': 1.5,\n",
    "        'weight': 6.0,\n",
    "        'Wmax': 100.0   \n",
    "    }\n",
    "    \n",
    "    synapse_params_in = {\n",
    "        'model':'stdp_synapse',\n",
    "        'lambda': 0.01,\n",
    "        'alpha': 1.0,\n",
    "        'delay': 1.5,\n",
    "        'weight':-95.0,\n",
    "        'Wmax':-100.0  \n",
    "    }\n",
    "    \n",
    "    return sim_params, model_params, synapse_params_ex, synapse_params_in"
   ]
  },
  {
   "cell_type": "code",
   "execution_count": 9,
   "metadata": {},
   "outputs": [],
   "source": [
    " def set_stim_amps(model_params):\n",
    "    '''adjust the stimulation amplitudes to be slightly sub and supra threshold.'''\n",
    "    I_th = (model_params['V_th'] - model_params['E_L']) * model_params['g_L']\n",
    "    stim_amps = np.array([0.9, 1.01]) * I_th\n",
    "    Asub = stim_amps[0]\n",
    "    Asupra = stim_amps[1]\n",
    "    print(Asub, Asupra)"
   ]
  },
  {
   "cell_type": "code",
   "execution_count": 10,
   "metadata": {},
   "outputs": [],
   "source": [
    "sim_params, model_params, syn_params_ex, syn_params_in = set_params()"
   ]
  },
  {
   "cell_type": "markdown",
   "metadata": {},
   "source": [
    "# Build network"
   ]
  },
  {
   "cell_type": "code",
   "execution_count": 11,
   "metadata": {},
   "outputs": [
    {
     "ename": "NESTErrors.IllegalConnection",
     "evalue": "('IllegalConnection in Connect_g_g_D_D: Creation of connection is not possible because:\\nWe do not allow to connect a device to a global receiver at the moment', 'IllegalConnection', <SLILiteral: Connect_g_g_D_D>, ': Creation of connection is not possible because:\\nWe do not allow to connect a device to a global receiver at the moment')",
     "output_type": "error",
     "traceback": [
      "\u001b[0;31m---------------------------------------------------------------------------\u001b[0m",
      "\u001b[0;31mNESTErrors.IllegalConnection\u001b[0m              Traceback (most recent call last)",
      "\u001b[0;32m<ipython-input-11-06be61aa21c9>\u001b[0m in \u001b[0;36m<module>\u001b[0;34m\u001b[0m\n\u001b[1;32m     72\u001b[0m \u001b[0;31m# connect dc_generators to neurons\u001b[0m\u001b[0;34m\u001b[0m\u001b[0;34m\u001b[0m\u001b[0;34m\u001b[0m\u001b[0m\n\u001b[1;32m     73\u001b[0m \u001b[0mnest\u001b[0m\u001b[0;34m.\u001b[0m\u001b[0mConnect\u001b[0m\u001b[0;34m(\u001b[0m\u001b[0mdcgen_sub\u001b[0m\u001b[0;34m,\u001b[0m \u001b[0mneurons_sub\u001b[0m\u001b[0;34m)\u001b[0m\u001b[0;34m\u001b[0m\u001b[0;34m\u001b[0m\u001b[0m\n\u001b[0;32m---> 74\u001b[0;31m \u001b[0mnest\u001b[0m\u001b[0;34m.\u001b[0m\u001b[0mConnect\u001b[0m\u001b[0;34m(\u001b[0m\u001b[0mdcgen_supra\u001b[0m\u001b[0;34m,\u001b[0m \u001b[0mneurons_supra\u001b[0m\u001b[0;34m)\u001b[0m\u001b[0;34m\u001b[0m\u001b[0;34m\u001b[0m\u001b[0m\n\u001b[0m",
      "\u001b[0;32m/opt/nest/lib/python3.6/site-packages/nest/ll_api.py\u001b[0m in \u001b[0;36mstack_checker_func\u001b[0;34m(*args, **kwargs)\u001b[0m\n\u001b[1;32m    244\u001b[0m     \u001b[0;32mdef\u001b[0m \u001b[0mstack_checker_func\u001b[0m\u001b[0;34m(\u001b[0m\u001b[0;34m*\u001b[0m\u001b[0margs\u001b[0m\u001b[0;34m,\u001b[0m \u001b[0;34m**\u001b[0m\u001b[0mkwargs\u001b[0m\u001b[0;34m)\u001b[0m\u001b[0;34m:\u001b[0m\u001b[0;34m\u001b[0m\u001b[0;34m\u001b[0m\u001b[0m\n\u001b[1;32m    245\u001b[0m         \u001b[0;32mif\u001b[0m \u001b[0;32mnot\u001b[0m \u001b[0mget_debug\u001b[0m\u001b[0;34m(\u001b[0m\u001b[0;34m)\u001b[0m\u001b[0;34m:\u001b[0m\u001b[0;34m\u001b[0m\u001b[0;34m\u001b[0m\u001b[0m\n\u001b[0;32m--> 246\u001b[0;31m             \u001b[0;32mreturn\u001b[0m \u001b[0mf\u001b[0m\u001b[0;34m(\u001b[0m\u001b[0;34m*\u001b[0m\u001b[0margs\u001b[0m\u001b[0;34m,\u001b[0m \u001b[0;34m**\u001b[0m\u001b[0mkwargs\u001b[0m\u001b[0;34m)\u001b[0m\u001b[0;34m\u001b[0m\u001b[0;34m\u001b[0m\u001b[0m\n\u001b[0m\u001b[1;32m    247\u001b[0m         \u001b[0;32melse\u001b[0m\u001b[0;34m:\u001b[0m\u001b[0;34m\u001b[0m\u001b[0;34m\u001b[0m\u001b[0m\n\u001b[1;32m    248\u001b[0m             \u001b[0msr\u001b[0m\u001b[0;34m(\u001b[0m\u001b[0;34m'count'\u001b[0m\u001b[0;34m)\u001b[0m\u001b[0;34m\u001b[0m\u001b[0;34m\u001b[0m\u001b[0m\n",
      "\u001b[0;32m/opt/nest/lib/python3.6/site-packages/nest/lib/hl_api_connections.py\u001b[0m in \u001b[0;36mConnect\u001b[0;34m(pre, post, conn_spec, syn_spec, model)\u001b[0m\n\u001b[1;32m    315\u001b[0m                 \"syn_spec needs to be a string or dictionary.\")\n\u001b[1;32m    316\u001b[0m \u001b[0;34m\u001b[0m\u001b[0m\n\u001b[0;32m--> 317\u001b[0;31m     \u001b[0msr\u001b[0m\u001b[0;34m(\u001b[0m\u001b[0;34m'Connect'\u001b[0m\u001b[0;34m)\u001b[0m\u001b[0;34m\u001b[0m\u001b[0;34m\u001b[0m\u001b[0m\n\u001b[0m\u001b[1;32m    318\u001b[0m \u001b[0;34m\u001b[0m\u001b[0m\n\u001b[1;32m    319\u001b[0m \u001b[0;34m\u001b[0m\u001b[0m\n",
      "\u001b[0;32m/opt/nest/lib/python3.6/site-packages/nest/ll_api.py\u001b[0m in \u001b[0;36mcatching_sli_run\u001b[0;34m(cmd)\u001b[0m\n\u001b[1;32m    130\u001b[0m \u001b[0;34m\u001b[0m\u001b[0m\n\u001b[1;32m    131\u001b[0m         \u001b[0mexceptionCls\u001b[0m \u001b[0;34m=\u001b[0m \u001b[0mgetattr\u001b[0m\u001b[0;34m(\u001b[0m\u001b[0mkernel\u001b[0m\u001b[0;34m.\u001b[0m\u001b[0mNESTErrors\u001b[0m\u001b[0;34m,\u001b[0m \u001b[0merrorname\u001b[0m\u001b[0;34m)\u001b[0m\u001b[0;34m\u001b[0m\u001b[0;34m\u001b[0m\u001b[0m\n\u001b[0;32m--> 132\u001b[0;31m         \u001b[0;32mraise\u001b[0m \u001b[0mexceptionCls\u001b[0m\u001b[0;34m(\u001b[0m\u001b[0mcommandname\u001b[0m\u001b[0;34m,\u001b[0m \u001b[0mmessage\u001b[0m\u001b[0;34m)\u001b[0m\u001b[0;34m\u001b[0m\u001b[0;34m\u001b[0m\u001b[0m\n\u001b[0m\u001b[1;32m    133\u001b[0m \u001b[0;34m\u001b[0m\u001b[0m\n\u001b[1;32m    134\u001b[0m \u001b[0msli_run\u001b[0m \u001b[0;34m=\u001b[0m \u001b[0msr\u001b[0m \u001b[0;34m=\u001b[0m \u001b[0mcatching_sli_run\u001b[0m\u001b[0;34m\u001b[0m\u001b[0;34m\u001b[0m\u001b[0m\n",
      "\u001b[0;31mNESTErrors.IllegalConnection\u001b[0m: ('IllegalConnection in Connect_g_g_D_D: Creation of connection is not possible because:\\nWe do not allow to connect a device to a global receiver at the moment', 'IllegalConnection', <SLILiteral: Connect_g_g_D_D>, ': Creation of connection is not possible because:\\nWe do not allow to connect a device to a global receiver at the moment')"
     ]
    }
   ],
   "source": [
    "# build network\n",
    "nest.ResetKernel() \n",
    "nest.SetKernelStatus({'resolution': 0.1, 'print_time': False, 'local_num_threads': 8})\n",
    "\n",
    "# ====== MAKE NEURON POPULATIONS =========\n",
    "neuron_ids = nest.Create('iaf_cond_alpha', 1200, params = model_params)\n",
    "\n",
    "#  ====== CREATE DC GENERATORS + SPIKE DETECT + MULTMETER =========\n",
    "# create two independent dc generators \n",
    "dcgen_sub = nest.Create('dc_generator')\n",
    "dcgen_supra = nest.Create('dc_generator')\n",
    "\n",
    "# create spikedetector\n",
    "spikedet = nest.Create('spike_detector')\n",
    "# create multimeter that records the voltage\n",
    "multimet = nest.Create('multimeter', params={'record_from': ['V_m']})\n",
    "\n",
    "# set status voltage meter with a recording interval \n",
    "nest.SetStatus(multimet, params={'interval':1.})\n",
    "\n",
    "# set status spikedetector\n",
    "nest.SetStatus(spikedet, params={\"withgid\": True, \"withtime\": True})\n",
    "\n",
    "# ====== PARAMETERISE SYNAPSES AND CONNECT NEURONS =========\n",
    " # define network connectivity\n",
    "conn_dict = {'rule': 'pairwise_bernoulli', 'p': 0.1} \n",
    "\n",
    "static_ex_params = {'model':'static_synapse','weight':6.0, 'delay':1.5}\n",
    "static_in_params = {'model':'static_synapse','weight':-96.0, 'delay':1.5}\n",
    "\n",
    "# make connections between the two populations\n",
    "# from exc neurons to all neurons\n",
    "nest.Connect(neuron_ids[:960], neuron_ids, conn_dict, syn_params_ex)\n",
    "# from interneurons to all neurons\n",
    "nest.Connect(neuron_ids[240:], neuron_ids, conn_dict, static_in_params)\n",
    "\n",
    "# ====== CONNECT TO DEVICES =========\n",
    "nest.Connect(neuron_ids, spikedet)\n",
    "nest.Connect(multimet, neuron_ids)\n",
    "\n",
    "\n",
    "\n",
    "# ===== FOR =======\n",
    "pattern = [1, 1, 1, 1, 0, 0, 0, 0]\n",
    "n_chunk = int(1200/(len(pattern)))\n",
    "\n",
    "indices = list(range(1200))\n",
    "# divide neuron indices in N chunks\n",
    "make_n_chunks = [indices[i:i + 150] for i in range(0, len(indices), n_chunk)]\n",
    "\n",
    "# make lists for the neurons that should receive a sub and supra amplitude\n",
    "sub_amp_ids = []\n",
    "supra_amp_ids = []\n",
    "\n",
    "# divide the indices to sub or supra based on the given pattern\n",
    "for i in range(len(pattern)):\n",
    "    \n",
    "    if pattern[i] == 0:\n",
    "        sub_amp_ids.append(make_n_chunks[i])\n",
    "\n",
    "    elif pattern[i] == 1:\n",
    "        supra_amp_ids.append(make_n_chunks[i])\n",
    "\n",
    "# need to convert list of tuples to one tuple for nest\n",
    "neurons_sub = tuple([item for sublist in sub_amp_ids for item in sublist])\n",
    "neurons_supra = tuple([item for sublist in supra_amp_ids for item in sublist])\n",
    "\n",
    "#====== DC GENERATOR ======\n",
    "nest.SetStatus(dcgen_sub, params = {'amplitude': 300.6, 'start':0., 'stop':100.})\n",
    "nest.SetStatus(dcgen_supra, params = {'amplitude': 337.34, 'start':0., 'stop':100.})\n",
    "\n",
    "# connect dc_generators to neurons\n",
    "nest.Connect(dcgen_sub, neurons_sub)\n",
    "nest.Connect(dcgen_supra, neurons_supra)"
   ]
  },
  {
   "cell_type": "markdown",
   "metadata": {},
   "source": [
    "# Set a pattern"
   ]
  },
  {
   "cell_type": "code",
   "execution_count": 44,
   "metadata": {},
   "outputs": [],
   "source": [
    "pattern = [1, 1, 1, 1, 0, 0, 0, 0]"
   ]
  },
  {
   "cell_type": "markdown",
   "metadata": {},
   "source": [
    "## "
   ]
  },
  {
   "cell_type": "code",
   "execution_count": 49,
   "metadata": {},
   "outputs": [],
   "source": [
    "n_chunk = int(1200/(len(pattern)))\n",
    "\n",
    "indices = list(range(1200))\n",
    "# divide neuron indices in N chunks\n",
    "make_n_chunks = [indices[i:i + 150] for i in range(0, len(indices), n_chunk)]\n",
    "\n",
    "# make lists for the neurons that should receive a sub and supra amplitude\n",
    "sub_amp_ids = []\n",
    "supra_amp_ids = []\n",
    "\n",
    "# divide the indices to sub or supra based on the given pattern\n",
    "for i in range(len(pattern)):\n",
    "    \n",
    "    if pattern[i] == 0:\n",
    "        sub_amp_ids.append(make_n_chunks[i])\n",
    "\n",
    "    elif pattern[i] == 1:\n",
    "        supra_amp_ids.append(make_n_chunks[i])\n",
    "\n",
    "# need to convert list of tuples to one tuple for nest\n",
    "neurons_sub = tuple([item for sublist in sub_amp_ids for item in sublist])\n",
    "neurons_supra = tuple([item for sublist in supra_amp_ids for item in sublist])"
   ]
  },
  {
   "cell_type": "code",
   "execution_count": 50,
   "metadata": {},
   "outputs": [],
   "source": [
    "# #====== DC GENERATOR ======\n",
    "# nest.SetStatus(dcgen_sub, params = {'amplitude': 300.6, 'start':0., 'stop':100.})\n",
    "# nest.SetStatus(dcgen_supra, params = {'amplitude': 337.34, 'start':0., 'stop':100.})\n",
    "\n",
    "# # connect dc_generators to neurons\n",
    "# nest.Connect(dcgen_sub, neurons_sub)\n",
    "# nest.Connect(dcgen_supra, neurons_supra)"
   ]
  },
  {
   "cell_type": "markdown",
   "metadata": {},
   "source": [
    "# Simulate"
   ]
  },
  {
   "cell_type": "code",
   "execution_count": null,
   "metadata": {},
   "outputs": [],
   "source": [
    "# ====== SIMULATE =========\n",
    "# simulate for a certain time period (ms)\n",
    "nest.Simulate(self.simtime)\n",
    "\n",
    "# spike detector data\n",
    "spike_times = nest.GetStatus(spikedet, 'events')[0]['times']\n",
    "spike_neurons = nest.GetStatus(spikedet, 'events')[0]['senders']\n",
    "\n",
    "# multimeter data\n",
    "events = nest.GetStatus(multimet)[0]['events']\n",
    "etimes = events['times']\n",
    "\n",
    "return spikedet, multimet, events, etimes, spike_times, spike_neurons"
   ]
  }
 ],
 "metadata": {
  "kernelspec": {
   "display_name": "Python 3",
   "language": "python",
   "name": "python3"
  },
  "language_info": {
   "codemirror_mode": {
    "name": "ipython",
    "version": 3
   },
   "file_extension": ".py",
   "mimetype": "text/x-python",
   "name": "python",
   "nbconvert_exporter": "python",
   "pygments_lexer": "ipython3",
   "version": "3.6.9"
  }
 },
 "nbformat": 4,
 "nbformat_minor": 2
}
