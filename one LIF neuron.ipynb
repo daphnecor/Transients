{
 "cells": [
  {
   "cell_type": "code",
   "execution_count": 90,
   "metadata": {},
   "outputs": [],
   "source": [
    "# nest\n",
    "import nest\n",
    "import nest.raster_plot\n",
    "import nest.voltage_trace\n",
    "# other\n",
    "import pandas as pd\n",
    "import os\n",
    "import json\n",
    "import time \n",
    "import timeit\n",
    "import itertools\n",
    "import numpy as np\n",
    "from importlib import reload \n",
    "from itertools import permutations \n",
    "from itertools import combinations \n",
    "import matplotlib.pyplot as plt\n",
    "import seaborn as sns\n",
    "\n",
    "sim_params = {\n",
    "        \n",
    "        'N_total':1200,\n",
    "        'NE': 960, # Default: 4/5 are exci neurons, 1/5 are inh neurons\n",
    "        'NI': 240,\n",
    "        'eps':0.1,  # connection probability\n",
    "        'J_in':-96.0,\n",
    "        'J_ex':6.0,\n",
    "        'resolution':0.1,  # temporal resolution of simulation in ms. Kumar2008: 0.1\n",
    "        'delay':1.5,  # synaptic delay in the network\n",
    "        'n_threads':8,\n",
    "        'stim_start':0., # start applying current (dc)\n",
    "        'stim_end':100., # end applying current (dc)\n",
    "        'simtime':1000., # simulation time \n",
    "        'sub_fr':0.9, # subthreshold current amplitude\n",
    "        'sup_fr':1.01, # suprathreshold current amplitude\n",
    "    }\n",
    "\n",
    "model_params = {\n",
    "        \n",
    "        'C_m': 250.0,\n",
    "        'E_L': -70.0,\n",
    "        'E_ex': 0.0,\n",
    "        'E_in': -80.0,\n",
    "        'I_e': 0.0,\n",
    "        'V_reset': -70.0,\n",
    "        'V_th': -50.0,\n",
    "        'g_L': 16.7,\n",
    "        't_ref': 2.0, # Duration of refractory period\n",
    "        'tau_syn_ex': 0.326, # Rise time of the excitatory synaptic alpha function\n",
    "        'tau_syn_in': 0.326,\n",
    "    }\n",
    "    \n",
    "syn_params_ex = {\n",
    "    \n",
    "        'model':'stdp_synapse',\n",
    "        'lambda': 0.01,\n",
    "        'alpha': 1.0,\n",
    "        'delay': 1.5,\n",
    "        'weight': 6.0,\n",
    "        'Wmax': 100.0   \n",
    "    }\n",
    "    \n",
    "syn_params_in = {\n",
    "    \n",
    "        'model':'stdp_synapse',\n",
    "        'lambda': 0.01,\n",
    "        'alpha': 1.0,\n",
    "        'delay': 1.5,\n",
    "        'weight':-95.0,\n",
    "        'Wmax':-100.0  \n",
    "    }\n",
    "\n",
    "#stim_amps = [300.6, 337.34]"
   ]
  },
  {
   "cell_type": "code",
   "execution_count": 91,
   "metadata": {},
   "outputs": [],
   "source": [
    "nest.ResetKernel() \n",
    "nest.SetKernelStatus({'resolution': 0.1, 'print_time': False, 'local_num_threads': 8})"
   ]
  },
  {
   "cell_type": "code",
   "execution_count": 92,
   "metadata": {},
   "outputs": [],
   "source": [
    "# ====== CREATE NEURONS =========\n",
    "neuron_ids = nest.Create('iaf_cond_alpha', 1, params=model_params)\n",
    "\n",
    "#  ====== CREATE & CONFIGURE GENERATORS + DETECTORS =========\n",
    "# create & configure dc generators (inputs)\n",
    "dcgen = nest.Create('dc_generator')\n",
    "nest.SetStatus(dcgen, {\"amplitude\": 300.0, \"start\": 0., \"stop\": 100.})\n",
    "\n",
    "# create and configure spikedetector\n",
    "spikedet = nest.Create('spike_detector')\n",
    "nest.SetStatus(spikedet, params={\"withgid\": True, \"withtime\": True})\n",
    "\n",
    "# create and configure multimeter that records the voltage (V_m)\n",
    "multimet = nest.Create('multimeter', params={'record_from': ['V_m']})\n",
    "nest.SetStatus(multimet, params={'interval':1.})"
   ]
  },
  {
   "cell_type": "code",
   "execution_count": 93,
   "metadata": {},
   "outputs": [],
   "source": [
    "# ====== CONNECT TO DEVICES =========\n",
    "nest.Connect(neuron_ids, spikedet)\n",
    "nest.Connect(multimet, neuron_ids)\n",
    "nest.Connect(dcgen, neuron_ids)"
   ]
  },
  {
   "cell_type": "code",
   "execution_count": 94,
   "metadata": {},
   "outputs": [],
   "source": [
    "#nest.ResetNetwork() # forget all previous simulation data\n",
    "#nest.SetKernelStatus({'time':0.}) # turn back the clock\n",
    "# simulate for a certain time period (ms)\n",
    "nest.Simulate(1000.)"
   ]
  },
  {
   "cell_type": "code",
   "execution_count": 96,
   "metadata": {},
   "outputs": [
    {
     "data": {
      "image/png": "[encoded data removed]",
      "text/plain": [
       "<Figure size 432x288 with 1 Axes>"
      ]
     },
     "metadata": {},
     "output_type": "display_data"
    }
   ],
   "source": [
    "nest.voltage_trace.from_device(multimet)\n",
    "plt.axhline(y=-50.0, linewidth=2., color='xkcd:red', linestyle='--');"
   ]
  },
  {
   "cell_type": "code",
   "execution_count": 97,
   "metadata": {},
   "outputs": [
    {
     "ename": "NESTError",
     "evalue": "No events recorded!",
     "output_type": "error",
     "traceback": [
      "\u001b[0;31m---------------------------------------------------------------------------\u001b[0m",
      "\u001b[0;31mNESTError\u001b[0m                                 Traceback (most recent call last)",
      "\u001b[0;32m<ipython-input-97-6f6a2816d20f>\u001b[0m in \u001b[0;36m<module>\u001b[0;34m\u001b[0m\n\u001b[0;32m----> 1\u001b[0;31m \u001b[0mnest\u001b[0m\u001b[0;34m.\u001b[0m\u001b[0mraster_plot\u001b[0m\u001b[0;34m.\u001b[0m\u001b[0mfrom_device\u001b[0m\u001b[0;34m(\u001b[0m\u001b[0mspikedet\u001b[0m\u001b[0;34m)\u001b[0m\u001b[0;34m;\u001b[0m\u001b[0;34m\u001b[0m\u001b[0;34m\u001b[0m\u001b[0m\n\u001b[0m",
      "\u001b[0;32m/opt/nest/lib/python3.6/site-packages/nest/raster_plot.py\u001b[0m in \u001b[0;36mfrom_device\u001b[0;34m(detec, plot_lid, **kwargs)\u001b[0m\n\u001b[1;32m    196\u001b[0m \u001b[0;34m\u001b[0m\u001b[0m\n\u001b[1;32m    197\u001b[0m         \u001b[0;32mif\u001b[0m \u001b[0;32mnot\u001b[0m \u001b[0mlen\u001b[0m\u001b[0;34m(\u001b[0m\u001b[0mts\u001b[0m\u001b[0;34m)\u001b[0m\u001b[0;34m:\u001b[0m\u001b[0;34m\u001b[0m\u001b[0;34m\u001b[0m\u001b[0m\n\u001b[0;32m--> 198\u001b[0;31m             \u001b[0;32mraise\u001b[0m \u001b[0mnest\u001b[0m\u001b[0;34m.\u001b[0m\u001b[0mkernel\u001b[0m\u001b[0;34m.\u001b[0m\u001b[0mNESTError\u001b[0m\u001b[0;34m(\u001b[0m\u001b[0;34m\"No events recorded!\"\u001b[0m\u001b[0;34m)\u001b[0m\u001b[0;34m\u001b[0m\u001b[0;34m\u001b[0m\u001b[0m\n\u001b[0m\u001b[1;32m    199\u001b[0m \u001b[0;34m\u001b[0m\u001b[0m\n\u001b[1;32m    200\u001b[0m         \u001b[0;32mif\u001b[0m \u001b[0mplot_lid\u001b[0m\u001b[0;34m:\u001b[0m\u001b[0;34m\u001b[0m\u001b[0;34m\u001b[0m\u001b[0m\n",
      "\u001b[0;31mNESTError\u001b[0m: No events recorded!"
     ]
    }
   ],
   "source": [
    "nest.raster_plot.from_device(spikedet);"
   ]
  },
  {
   "cell_type": "code",
   "execution_count": null,
   "metadata": {},
   "outputs": [],
   "source": []
  },
  {
   "cell_type": "code",
   "execution_count": null,
   "metadata": {},
   "outputs": [],
   "source": []
  }
 ],
 "metadata": {
  "kernelspec": {
   "display_name": "Python 3",
   "language": "python",
   "name": "python3"
  },
  "language_info": {
   "codemirror_mode": {
    "name": "ipython",
    "version": 3
   },
   "file_extension": ".py",
   "mimetype": "text/x-python",
   "name": "python",
   "nbconvert_exporter": "python",
   "pygments_lexer": "ipython3",
   "version": "3.6.9"
  }
 },
 "nbformat": 4,
 "nbformat_minor": 2
}
