{
 "cells": [
  {
   "cell_type": "markdown",
   "metadata": {},
   "source": [
    "## Fitting data to probability density functions\n",
    "\n",
    "A few common distributions\n",
    "\n",
    "### Some distributions\n",
    "\n",
    "- **Exponential.**\n",
    "- **Power law.** \n",
    "\n",
    "- Gamma \n",
    "\n",
    "- **Log normal**. a probability distribution with a normally distributed logarithm. A random variable is lognormally distributed if its logarithm is normally distributed. Skewed distributions with low mean values, large variance, and all-positive values often fit this type of distribution. Values must be positive as log(x) exists only for positive values of x.\n"
   ]
  },
  {
   "cell_type": "markdown",
   "metadata": {},
   "source": [
    "### 0.1 Power law distribution: Definition and properties\n",
    "\n",
    "\n",
    "When something follows a power law, it doesn't really make sense to calculate the mean or standard deviation like you would do for the normal distribution. Because the power law creates a long tail distribution, meaning: extraordinatory events are possible. Thus, when something follows a power law, we need different metrics to understand its implications.\n",
    "\n",
    "**Properties**\n",
    "- power laws have **heavier tails** than exponentials. That is, the right tails of the distributions still contain a great deal of the probability. \n",
    "    - these heavy tails make the power law distributions **scale-free**; all values can be expected to occur because there is no characteristic size or scale (Alstott et al., 2014). \n",
    "- Power laws form the core of self organised criticality \n",
    "- Intuition: any avalanche size is possible, but the frequency of neural avalanches exponentially depended on the avalanche size."
   ]
  },
  {
   "cell_type": "markdown",
   "metadata": {},
   "source": [
    "## 1. Run simulation\n",
    "\n",
    "\n",
    "- `transient_spikes` is the total number of spikes in a transient.\n",
    "- `transient_size` is the number of unique neurons that spike in a transient.\n",
    "- `transient_lifetime` is the duration of the transient in ms."
   ]
  },
  {
   "cell_type": "code",
   "execution_count": 9,
   "metadata": {},
   "outputs": [],
   "source": [
    "# set parameters\n",
    "sim_params, model_params, syn_params_ex, syn_params_in = set_params(J_in=-45., stim_end=100.)\n",
    "\n",
    "# initialise classes\n",
    "LS = sim.LeakySimulator(sim_params, model_params, syn_params_ex, syn_params_in)\n",
    "LS.build_network() # build network\n",
    "\n",
    "# run simulations\n",
    "multimet_lst, times_lst, events_lst, spike_times_lst, spike_neurons_lst = simulate_all(patterns)\n",
    "\n",
    "# get distributions\n",
    "transient_spikes, transient_lifetime, transient_size = get_transient_data(spike_times_lst, spike_neurons_lst, sim_params)\n",
    "\n",
    "d = {'transient_spikes':transient_spikes, 'transient_lifetime':transient_lifetime, 'transient_size':transient_size}\n",
    "df = pd.DataFrame(data=d)"
   ]
  },
  {
   "cell_type": "code",
   "execution_count": null,
   "metadata": {
    "scrolled": true
   },
   "outputs": [],
   "source": [
    "# # === parameter setting ===\n",
    "# sim_params, model_params = set_params(J_in=-46., stim_end=100.)\n",
    "# # === simulate ===\n",
    "# multimeters, times_lst, events_lst, spike_times_arr, spike_neurons_arr = simulate(patterns, sim_params, model_params)\n",
    "# # === transient data ===\n",
    "# transient_spikes, transient_lifetime, transient_size = get_transient_data(spike_times_arr,spike_neurons_arr, sim_params)\n",
    "# # === put in dataframe ===\n",
    "# d = {'transient_spikes':transient_spikes, 'transient_lifetime':transient_lifetime, 'transient_size':transient_size}\n",
    "# df = pd.DataFrame(data=d)"
   ]
  },
  {
   "cell_type": "code",
   "execution_count": 10,
   "metadata": {},
   "outputs": [],
   "source": [
    "# add a column with the spike frequency (number of spikes/1 ms)\n",
    "df['spike_frequency'] = round(df['transient_spikes']/df['transient_lifetime'],2)"
   ]
  },
  {
   "cell_type": "code",
   "execution_count": 11,
   "metadata": {
    "scrolled": false
   },
   "outputs": [
    {
     "data": {
      "text/html": [
       "<div>\n",
       "<style scoped>\n",
       "    .dataframe tbody tr th:only-of-type {\n",
       "        vertical-align: middle;\n",
       "    }\n",
       "\n",
       "    .dataframe tbody tr th {\n",
       "        vertical-align: top;\n",
       "    }\n",
       "\n",
       "    .dataframe thead th {\n",
       "        text-align: right;\n",
       "    }\n",
       "</style>\n",
       "<table border=\"1\" class=\"dataframe\">\n",
       "  <thead>\n",
       "    <tr style=\"text-align: right;\">\n",
       "      <th></th>\n",
       "      <th>transient_spikes</th>\n",
       "      <th>transient_lifetime</th>\n",
       "      <th>transient_size</th>\n",
       "      <th>spike_frequency</th>\n",
       "    </tr>\n",
       "  </thead>\n",
       "  <tbody>\n",
       "    <tr>\n",
       "      <th>count</th>\n",
       "      <td>70.000000</td>\n",
       "      <td>70.000000</td>\n",
       "      <td>70.000000</td>\n",
       "      <td>70.000000</td>\n",
       "    </tr>\n",
       "    <tr>\n",
       "      <th>mean</th>\n",
       "      <td>16213.771429</td>\n",
       "      <td>160.067143</td>\n",
       "      <td>1134.742857</td>\n",
       "      <td>96.922286</td>\n",
       "    </tr>\n",
       "    <tr>\n",
       "      <th>std</th>\n",
       "      <td>14323.219007</td>\n",
       "      <td>134.487479</td>\n",
       "      <td>59.332931</td>\n",
       "      <td>12.232607</td>\n",
       "    </tr>\n",
       "    <tr>\n",
       "      <th>min</th>\n",
       "      <td>1562.000000</td>\n",
       "      <td>18.900000</td>\n",
       "      <td>917.000000</td>\n",
       "      <td>63.250000</td>\n",
       "    </tr>\n",
       "    <tr>\n",
       "      <th>25%</th>\n",
       "      <td>6433.250000</td>\n",
       "      <td>68.850000</td>\n",
       "      <td>1116.000000</td>\n",
       "      <td>91.522500</td>\n",
       "    </tr>\n",
       "    <tr>\n",
       "      <th>50%</th>\n",
       "      <td>11532.500000</td>\n",
       "      <td>107.650000</td>\n",
       "      <td>1154.000000</td>\n",
       "      <td>97.890000</td>\n",
       "    </tr>\n",
       "    <tr>\n",
       "      <th>75%</th>\n",
       "      <td>20690.750000</td>\n",
       "      <td>203.225000</td>\n",
       "      <td>1176.000000</td>\n",
       "      <td>105.810000</td>\n",
       "    </tr>\n",
       "    <tr>\n",
       "      <th>max</th>\n",
       "      <td>75779.000000</td>\n",
       "      <td>720.000000</td>\n",
       "      <td>1193.000000</td>\n",
       "      <td>122.990000</td>\n",
       "    </tr>\n",
       "  </tbody>\n",
       "</table>\n",
       "</div>"
      ],
      "text/plain": [
       "       transient_spikes  transient_lifetime  transient_size  spike_frequency\n",
       "count         70.000000           70.000000       70.000000        70.000000\n",
       "mean       16213.771429          160.067143     1134.742857        96.922286\n",
       "std        14323.219007          134.487479       59.332931        12.232607\n",
       "min         1562.000000           18.900000      917.000000        63.250000\n",
       "25%         6433.250000           68.850000     1116.000000        91.522500\n",
       "50%        11532.500000          107.650000     1154.000000        97.890000\n",
       "75%        20690.750000          203.225000     1176.000000       105.810000\n",
       "max        75779.000000          720.000000     1193.000000       122.990000"
      ]
     },
     "execution_count": 11,
     "metadata": {},
     "output_type": "execute_result"
    }
   ],
   "source": [
    "df.describe()"
   ]
  },
  {
   "cell_type": "code",
   "execution_count": 12,
   "metadata": {},
   "outputs": [],
   "source": [
    "transient_lifetime_lst = df.transient_lifetime.tolist()\n",
    "transient_size_lst = df.transient_size.tolist()\n",
    "transient_spikes_lst = df.transient_spikes.tolist()"
   ]
  },
  {
   "cell_type": "code",
   "execution_count": 20,
   "metadata": {},
   "outputs": [
    {
     "data": {
      "image/png": "[encoded data removed]",
      "text/plain": [
       "<Figure size 432x288 with 1 Axes>"
      ]
     },
     "metadata": {
      "needs_background": "light"
     },
     "output_type": "display_data"
    }
   ],
   "source": [
    "plt.hist(transient_lifetime_lst);"
   ]
  },
  {
   "cell_type": "code",
   "execution_count": 22,
   "metadata": {},
   "outputs": [
    {
     "data": {
      "image/png": "[encoded data removed]",
      "text/plain": [
       "<Figure size 432x288 with 1 Axes>"
      ]
     },
     "metadata": {
      "needs_background": "light"
     },
     "output_type": "display_data"
    }
   ],
   "source": [
    "plt.hist(transient_spikes_lst);"
   ]
  },
  {
   "cell_type": "markdown",
   "metadata": {},
   "source": [
    "# 2. Inspect distributions\n",
    "\n",
    "### Estimate the parameters $x_{min}$ and $\\alpha$\n",
    "\n",
    "\n",
    "We have to determine what part of the data to fit. We want to know: from what minimal value $x_{min}$ does the scaling relationship of the power law begins. Clauset et al. (2009) find the optimal starting value by taking the one with the shortest Kolmogorov-Smirnov distance between the data and the fit.\n",
    "\n",
    "- we can also hand pick an `xmin` by looking at the minimum value in the list\n",
    "\n",
    "\n",
    "###  2.A Testing the power law hypothesis\n",
    "\n",
    "from [this tutorial](https://cran.r-project.org/web/packages/poweRlaw/vignettes/b_powerlaw_examples.pdf)\n",
    "\n",
    "\"Since it is possible to fit a power law distribution to any data set, it is appropriate to test\n",
    "whether the observed data set actually follows a power law. Clauset et al. (2009) suggest that\n",
    "this hypothesis is tested using a goodness-of-fit test, via a bootstrapping procedure. This test\n",
    "generates a p-value that can be used to quantify the plausibility of the hypothesis. If the p-value\n",
    "is large, than any difference between the empirical data and the model can be explained with\n",
    "statistical fluctuations. If $p \\approx 0$, then the model does not provide a plausible fit to the data and another distribution may be more appropriate. In this scenario,\n",
    "\n",
    "H0 : data is generated from a power law distribution.\n",
    "\n",
    "H1 : data is not generated from a power law distribution.\n",
    "\n",
    "- now we want to know whether the power law is a plausible fit to the data\n",
    "- we use goodness of fit tests, which generate a $p$ value that quantifies the plausibility of the hypothesis. These tests are based on the \"distance\" between the distributed of the empircal data and the hypothesised model.\n",
    "\n",
    "Method\n",
    "\n",
    "1. fit our empirical data to the power-law model using the methods of section 3 and calculate the KS statistic for this fit.\n",
    "2. we generate a large number of power-law distributed synthetic data sets with scaling parameter $α$ and lower bound $xmin$ equal to those of the distribution that best fits the observed data. \n",
    "3. We fit each synthetic data set individually to its own power-law model and calculate the KS statistic for each one relative to its own model. \n",
    "4. Then we simply count the fraction of the time that the resulting statistic is larger than the value for the empirical data. This fraction is our p-value.\n",
    "\n",
    "\n",
    "---\n",
    "\n",
    "While we can never be certain that our observations are drawn from a power law distribution, the following are statistical techniques that help us determine whether our observations are in line with the hypothesis that $x$ is drawn from a distribution in the form of the equation above.\n",
    "\n",
    "**Recipe for analysing power-law distributed data** (Adapted from Clauset et al., 2009)\n",
    "\n",
    "1. Estimate the parameters $x_{min}$ and $\\alpha$ \n",
    "2. Calculate the goodness of fit between the data and the power law.\n",
    "    - If $p > 0.1$: it is plausible that your data follows a power law distribution.\n",
    "    - Else: it doesn't follow a power law distribution.\n",
    "    \n",
    "\n",
    "[documentation](https://plfit.readthedocs.io/en/latest/apidoc.html#module-plfit.plfit)\n"
   ]
  },
  {
   "cell_type": "code",
   "execution_count": 13,
   "metadata": {
    "scrolled": true
   },
   "outputs": [
    {
     "name": "stdout",
     "output_type": "stream",
     "text": [
      "PYTHON plfit executed in 0.002484 seconds\n",
      "xmin: 32.2 n(>xmin): 65 alpha: 1.71103 +/- 0.0881927   Log-Likelihood: -404.262   ks: 0.243912 p(ks): 0.000343018\n"
     ]
    },
    {
     "data": {
      "image/png": "[encoded data removed]",
      "text/plain": [
       "<Figure size 432x288 with 1 Axes>"
      ]
     },
     "metadata": {
      "needs_background": "light"
     },
     "output_type": "display_data"
    }
   ],
   "source": [
    "fit = plfit(transient_lifetime_lst, discrete=False)\n",
    "\n",
    "# plot pdf and powerlaw (red)\n",
    "fit.plotpdf()"
   ]
  },
  {
   "cell_type": "code",
   "execution_count": 14,
   "metadata": {
    "scrolled": true
   },
   "outputs": [
    {
     "name": "stdout",
     "output_type": "stream",
     "text": [
      "PYTHON plfit executed in 0.002356 seconds\n",
      "Not enough data left after flagging low S/N points.  Using all data.\n",
      "(PLFIT) Warning: finite-size bias may be present. n=13\n",
      "xmin: 1180 n(>xmin): 13 alpha: 261.822 +/- 72.339   Log-Likelihood: -32.6725   ks: 0.129612 p(ks): 0.596678\n"
     ]
    },
    {
     "data": {
      "image/png": "[encoded data removed]",
      "text/plain": [
       "<Figure size 432x288 with 1 Axes>"
      ]
     },
     "metadata": {
      "needs_background": "light"
     },
     "output_type": "display_data"
    }
   ],
   "source": [
    "fit = plfit(transient_size_lst, discrete=False)\n",
    "\n",
    "# plot pdf and powerlaw (red)\n",
    "fit.plotpdf()"
   ]
  },
  {
   "cell_type": "code",
   "execution_count": 15,
   "metadata": {},
   "outputs": [
    {
     "name": "stdout",
     "output_type": "stream",
     "text": [
      "PYTHON plfit executed in 0.002928 seconds\n",
      "xmin: 3421 n(>xmin): 63 alpha: 1.7304 +/- 0.0920211   Log-Likelihood: -681.722   ks: 0.217946 p(ks): 0.00207997\n"
     ]
    },
    {
     "data": {
      "image/png": "[encoded data removed]",
      "text/plain": [
       "<Figure size 432x288 with 1 Axes>"
      ]
     },
     "metadata": {
      "needs_background": "light"
     },
     "output_type": "display_data"
    }
   ],
   "source": [
    "fit = plfit(transient_spikes_lst, discrete=False)\n",
    "\n",
    "# plot pdf and powerlaw (red)\n",
    "fit.plotpdf()"
   ]
  },
  {
   "cell_type": "markdown",
   "metadata": {},
   "source": [
    "## 2.B  Comparing distributions\n",
    "\n",
    "For most data sets, a power law is actually a worse fit than a lognormal distribution, or perhaps equally good, but rarely better. This fact was one of the central empirical results of the paper Clauset et al. 2007, which developed the statistical methods that `powerlaw` implements.\n",
    "\n",
    "A second approach to test the power law hypothesis is a direct comparison of two models. [...] The test statistic, R, is the ratio of the log-likelihoods of the data between the two competing models. The sign of R indicates which model is better. \n",
    "\n",
    "--- \n",
    "from the authors of `powerlaw` (Alstott et al., 2014)\n",
    "\n",
    "Philosophically, it is frequently insufficient and unnecessary to answer the question of whether a distribution “really” follows a power law. Instead the question is whether a power law is the best description available. It is generally more sound and useful to compare the fits of many candidate distributions, and identify which one fits the best.\n",
    "\n",
    "The goodness of fit of these distributions must be evaluated before concluding that a power law is a good description of the data. The goodness of fit for each distribution can be considered individually or by comparison to the fit of other distributions (respectively, using bootstrapping and the Kolmogorov-Smirnov test to generate a p-value for an individual fit vs. using loglikelihood ratios to identify which of two fits is better) [5]. There are several reasons, both practical and philosophical, to focus on the latter, comparative tests. ()\n",
    "\n",
    "---\n",
    "\n",
    "$R$ is the loglikelihood ratio between the two candidate distributions. The likelihood-ratio test assesses the **goodness of fit** of two competing statistical models based on the ratio of their likelihoods.\n",
    "\n",
    "This number will be positive if the data is more likely in the first distribution, and negative if the data is more likely in the second distribution. The significance value for that direction is $p$. The normalized_ratio option normalizes $R$ by its standard deviation, . The normalized ratio is what is directly used to calculate p.\n",
    "\n",
    "- If $R > 0$, the data is more likely in the first distribution, and $R < 0$ if the data is more likely in the second distribution.\n",
    "- $p$ - The significance of the sign of R. If below a critical value (typically .05) the sign of R is taken to be significant. If above the critical value the sign of R is taken to be due to statistical fluctuations."
   ]
  },
  {
   "cell_type": "code",
   "execution_count": 16,
   "metadata": {
    "scrolled": false
   },
   "outputs": [
    {
     "name": "stderr",
     "output_type": "stream",
     "text": [
      "Calculating best minimal value for power law fit\n",
      "'nan' in fit cumulative distribution values.\n",
      "Likely underflow or overflow error: the optimal fit for this distribution gives values that are so extreme that we lack the numerical precision to calculate them.\n"
     ]
    },
    {
     "name": "stdout",
     "output_type": "stream",
     "text": [
      "estimate of alpha: 6.909325144870323\n",
      "estimate of x min: 389.3\n",
      "Our minimum value: 18.9\n",
      "========================\n",
      "lognormal is the best fit, R = -0.732\n",
      "R is not significant, p = 0.214\n"
     ]
    },
    {
     "data": {
      "image/png": "[encoded data removed]",
      "text/plain": [
       "<Figure size 432x288 with 1 Axes>"
      ]
     },
     "metadata": {
      "needs_background": "light"
     },
     "output_type": "display_data"
    }
   ],
   "source": [
    "compare_distributions(data=transient_lifetime_lst, x_label='transient lifetime')"
   ]
  },
  {
   "cell_type": "code",
   "execution_count": 17,
   "metadata": {
    "scrolled": false
   },
   "outputs": [
    {
     "name": "stderr",
     "output_type": "stream",
     "text": [
      "Calculating best minimal value for power law fit\n"
     ]
    },
    {
     "name": "stdout",
     "output_type": "stream",
     "text": [
      "estimate of alpha: 261.82180988387415\n",
      "estimate of x min: 1180.0\n",
      "Our minimum value: 917\n",
      "========================\n",
      "power law is the best fit, R = nan\n",
      "R is not significant, p = nan\n"
     ]
    },
    {
     "data": {
      "image/png": "[encoded data removed]",
      "text/plain": [
       "<Figure size 432x288 with 1 Axes>"
      ]
     },
     "metadata": {
      "needs_background": "light"
     },
     "output_type": "display_data"
    }
   ],
   "source": [
    "compare_distributions(data=transient_size_lst, x_label='transient size')"
   ]
  },
  {
   "cell_type": "code",
   "execution_count": 18,
   "metadata": {},
   "outputs": [
    {
     "name": "stderr",
     "output_type": "stream",
     "text": [
      "Calculating best minimal value for power law fit\n"
     ]
    },
    {
     "name": "stdout",
     "output_type": "stream",
     "text": [
      "estimate of alpha: 3.1698974389798282\n",
      "estimate of x min: 19011.0\n",
      "Our minimum value: 1562\n",
      "========================\n",
      "lognormal is the best fit, R = -0.629\n",
      "R is not significant, p = 0.52\n"
     ]
    },
    {
     "data": {
      "image/png": "[encoded data removed]",
      "text/plain": [
       "<Figure size 432x288 with 1 Axes>"
      ]
     },
     "metadata": {
      "needs_background": "light"
     },
     "output_type": "display_data"
    }
   ],
   "source": [
    "compare_distributions(data=transient_spikes_lst, x_label='transient size')"
   ]
  },
  {
   "cell_type": "markdown",
   "metadata": {},
   "source": [
    "## Resources\n",
    "\n",
    "- [Power laws in empirical data](https://arxiv.org/abs/0706.1062), Clauset et al., 2009\n",
    "\n",
    "- [powerlaw toolbox](https://github.com/jeffalstott/powerlaw) and [powerlaw paper explaining their code](https://journals.plos.org/plosone/article?id=10.1371/journal.pone.0085777) \n",
    "\n",
    "- [scale free](https://blogs.cornell.edu/info2040/2018/09/17/scale-free-networks-are-rare/) + [scale free paper](https://arxiv.org/abs/1801.03400)"
   ]
  },
  {
   "cell_type": "markdown",
   "metadata": {},
   "source": [
    "## Functions"
   ]
  },
  {
   "cell_type": "code",
   "execution_count": 8,
   "metadata": {},
   "outputs": [],
   "source": [
    "import plfit\n",
    "from plfit import plfit\n",
    "from numpy.random import rand,seed\n",
    "import warnings\n",
    "warnings.filterwarnings('ignore')\n",
    "import powerlaw\n",
    "\n",
    "# nest\n",
    "import nest\n",
    "import nest.raster_plot\n",
    "import nest.voltage_trace\n",
    "# other\n",
    "import pandas as pd\n",
    "import os\n",
    "import json\n",
    "import time \n",
    "import timeit\n",
    "import itertools\n",
    "import numpy as np\n",
    "from importlib import reload \n",
    "from itertools import permutations \n",
    "from itertools import combinations \n",
    "import matplotlib.pyplot as plt\n",
    "import seaborn as sns\n",
    "\n",
    "# seed \n",
    "np.random.seed(0)\n",
    "\n",
    "import LeakySimulator as sim\n",
    "reload(sim); # update changes made in python script\n",
    "\n",
    "U = sim.Usefulfunctions()\n",
    "\n",
    "patterns = []\n",
    "# make permutations for 8 bit pattern\n",
    "for perm in H.make_permutations():\n",
    "    patterns.append(perm)\n",
    "    \n",
    "# functions\n",
    "\n",
    "def set_params(J_ex=6., J_in=-95., C_m=250.0, NE=960, NI=240, stim_end=150.):\n",
    "    \n",
    "    sim_params = {\n",
    "\n",
    "            'N_total':1200,\n",
    "            'NE': 960, # Default: 4/5 are exci neurons, 1/5 are inh neurons\n",
    "            'NI': 240,\n",
    "            'eps':0.1,  # connection probability\n",
    "            'J_in':-95.0,\n",
    "            'J_ex':6.0,\n",
    "            'resolution':0.1,  # temporal resolution of simulation in ms. Kumar2008: 0.1\n",
    "            'delay':1.5,  # synaptic delay in the network\n",
    "            'n_threads':8,\n",
    "            'stim_start':0., # start applying current (dc)\n",
    "            'stim_end':150., # end applying current (dc)\n",
    "            'simtime':1000., # simulation time \n",
    "            'sub_fr':0.9, # subthreshold current amplitude\n",
    "            'sup_fr':1.01, # suprathreshold current amplitude\n",
    "        }\n",
    "\n",
    "    model_params = {\n",
    "\n",
    "            'C_m': 250.0,\n",
    "            'E_L': -70.0,\n",
    "            'E_ex': 0.0,\n",
    "            'E_in': -80.0,\n",
    "            'I_e': 0.0,\n",
    "            'V_reset': -70.0,\n",
    "            'V_th': -50.0,\n",
    "            'g_L': 16.7,\n",
    "            't_ref': 2.0, # Duration of refractory period\n",
    "            'tau_syn_ex': 0.326, # Rise time of the excitatory synaptic alpha function\n",
    "            'tau_syn_in': 0.326,\n",
    "        }\n",
    "\n",
    "    # parameters for STDP synapses\n",
    "    \n",
    "    syn_params_ex = {\n",
    "\n",
    "            'model':'stdp_synapse',\n",
    "            'lambda': 0.01,\n",
    "            'alpha': 1.0,\n",
    "            'delay': 1.5,\n",
    "            'weight': 6.0,\n",
    "            'Wmax': 100.0   \n",
    "        }\n",
    "\n",
    "    syn_params_in = {\n",
    "\n",
    "            'model':'stdp_synapse',\n",
    "            'lambda': 0.01,\n",
    "            'alpha': 1.0,\n",
    "            'delay': 1.5,\n",
    "            'weight':-95.0,\n",
    "            'Wmax':-100.0  \n",
    "        }\n",
    "    \n",
    "    \n",
    "    sim_params['NE'] = NE\n",
    "    sim_params['NI'] = NI\n",
    "    sim_params['J_in'] = J_in\n",
    "    sim_params['J_ex'] = J_ex\n",
    "    sim_params['C_m'] = C_m\n",
    "    \n",
    "    syn_params_ex['weight'] = J_ex\n",
    "    syn_params_in['weight'] = J_in\n",
    "    \n",
    "    return sim_params, model_params, syn_params_ex, syn_params_in\n",
    "\n",
    "\n",
    "def simulate_all(patterns):\n",
    "\n",
    "    spikedet_lst = []\n",
    "    multimet_lst = []\n",
    "\n",
    "    spike_times_lst = []\n",
    "    spike_neurons_lst = []\n",
    "    events_lst = []\n",
    "    times_lst = []\n",
    "\n",
    "    for i, p in enumerate(patterns):\n",
    "\n",
    "        LS.set_pattern(p)\n",
    "\n",
    "        spikedet, multimet, spike_times, spike_neurons, events, etimes = LS.simulate() \n",
    "        spikedet_lst.append(spikedet)\n",
    "        multimet_lst.append(multimet)\n",
    "        spike_times_lst.append(spike_times)\n",
    "        spike_neurons_lst.append(spike_neurons)\n",
    "        events_lst.append(events)\n",
    "        times_lst.append(etimes)\n",
    "        \n",
    "        if i%20 == 0:\n",
    "            ('Simulating ...')\n",
    "        \n",
    "    return multimet_lst, times_lst, events_lst, spike_times_lst, spike_neurons_lst\n",
    "\n",
    "\n",
    "def get_transient_data(spike_times_lst, spike_neurons_lst, sim_params):\n",
    "    '''\n",
    "    Uses the information from the simulation run to get information about the transient.\n",
    "    '''\n",
    "    # convert to np arrays\n",
    "    spike_times_arr = np.array(spike_times_lst)\n",
    "    spike_neurons_arr = np.array(spike_neurons_lst)\n",
    "    \n",
    "    transient_spikes = []\n",
    "    transient_lifetime = []\n",
    "    transient_uniquen = []\n",
    "    transient_time_arr = []\n",
    "    \n",
    "    stim_end = sim_params['stim_end']\n",
    "    \n",
    "    for trial in range(len(spike_times_arr)):\n",
    "\n",
    "        # select data from experiment / trial\n",
    "        times = spike_times_arr[trial]\n",
    "        neurons = spike_neurons_arr[trial]\n",
    "\n",
    "        # === number of spikes ===\n",
    "        num_trans_spikes = sum(1*(times > stim_end))\n",
    "        transient_spikes.append(num_trans_spikes)\n",
    "\n",
    "        # === transient lifetime ===\n",
    "        transient_time = times[times > stim_end]\n",
    "        transient_time_arr.append(transient_time)\n",
    "\n",
    "        if num_trans_spikes == 0:\n",
    "            transient_lifetime.append(0)\n",
    "        else:\n",
    "            t_dur = round(max(transient_time_arr[trial]) - stim_end,2)\n",
    "            transient_lifetime.append(t_dur)\n",
    "\n",
    "        # === transient_size ===\n",
    "        transients = 1*(times > stim_end)\n",
    "        transient_indices = np.argwhere(transients)\n",
    "        # take the neurons from these indices\n",
    "        active_neurons = np.unique(neurons[transient_indices])\n",
    "        transient_uniquen.append(active_neurons)\n",
    "\n",
    "    transient_size = [len(i) for i in transient_uniquen]\n",
    "    \n",
    "    return transient_spikes, transient_lifetime, transient_size\n",
    "\n",
    "\n",
    "def plot(transient_mins, transient_means, transient_maxs, x_axis_name, parameter_range):\n",
    "    '''\n",
    "    takes in a list of transient means and max values, name for the x_axis (the parameter value that is being changed) \n",
    "    and the range of parameter values used.\n",
    "    \n",
    "    Plots the graphs.\n",
    "    '''\n",
    "    # [mean transient size, mean transient lifetime]\n",
    "    trans_size_mins = [i[0] for i in transient_mins]\n",
    "    trans_lifetime_mins = [i[1] for i in transient_mins]\n",
    "    \n",
    "    trans_size_means = [i[0] for i in transient_means]\n",
    "    trans_lifetime_means = [i[1] for i in transient_means]    \n",
    "\n",
    "    trans_size_maxs = [item[0] for item in transient_maxs]\n",
    "    trans_lifetime_maxs = [item[1] for item in transient_maxs]\n",
    "\n",
    "    # === Plot ===\n",
    "    fig, (ax1, ax2) = plt.subplots(1, 2, figsize=(15,5))\n",
    "    ax1.plot(parameter_range, trans_size_mins, '--go', label='min transient size');\n",
    "    ax1.plot(parameter_range, trans_size_maxs, '--ro', label ='max transient size');\n",
    "    ax1.plot(parameter_range, trans_size_means, '--bo', label='mean transient size');\n",
    "    ax1.set_xlabel(x_axis_name)\n",
    "    ax1.set_ylabel('transient size (neurons)')\n",
    "    ax1.legend();\n",
    "    \n",
    "    ax2.plot(parameter_range, trans_lifetime_mins, '--go', label ='min transient times');\n",
    "    ax2.plot(parameter_range, trans_lifetime_maxs, '--ro', label ='max transient times');\n",
    "    ax2.plot(parameter_range, trans_lifetime_means, '--bo', label='mean transient times');\n",
    "    ax2.set_xlabel(x_axis_name);\n",
    "    ax2.set_ylabel('transient lifetime (ms)')\n",
    "    ax2.legend();\n",
    "    \n",
    "\n",
    "def show_rasters(pattern, spike_times, spike_neurons, times, events, stim_end):\n",
    "    \n",
    "    fig, (ax1, ax2) = plt.subplots(2, figsize=(22,10))\n",
    "    plt.suptitle(U.list2str(pattern), size=15)\n",
    "    # raster plot\n",
    "    ax1.scatter(spike_times, spike_neurons, marker='o', s=0.08, color='k');\n",
    "    ax1.set_ylabel('neuron id')\n",
    "    ax1.axvline(x=0, linewidth=2., color='xkcd:dark blue', linestyle='--')\n",
    "    ax1.axvline(x=stim_end, linewidth=2., color='xkcd:dark blue', linestyle='--')\n",
    "    ax1.set_xlim([-20, 1000])\n",
    "\n",
    "    # voltage\n",
    "    ax2.plot(times, events['V_m'], color='xkcd:teal')\n",
    "    ax2.set_ylabel('Membrane potential (mV)')\n",
    "    ax2.axvline(x=0, linewidth=2., color='xkcd:dark blue', linestyle='--')\n",
    "    ax2.axvline(x=stim_end, linewidth=2., color='xkcd:dark blue', linestyle='--')\n",
    "    ax2.axhline(y=-50, linewidth=2.5, color='xkcd:coral', linestyle='-')\n",
    "    ax2.set_xlim([-20, 1000])\n",
    "    ax2.set_ylim([-75, -45]);\n",
    "\n",
    "def compare_distributions(data, x_label, plot_hist=False):\n",
    "    \n",
    "    x_min = min(data)\n",
    "    \n",
    "    if plot_hist == True:\n",
    "        \n",
    "        plt.hist(data)\n",
    "        plt.xlabel(x_label)\n",
    "        plt.ylabel('# experiments');\n",
    "    \n",
    "    # estimate min x and alpha\n",
    "    fit = powerlaw.Fit(data)\n",
    "    print(f'estimate of alpha: {fit.power_law.alpha}')\n",
    "    print(f'estimate of x min: {fit.power_law.xmin}')\n",
    "    print(f'Our minimum value: {x_min}')\n",
    "    \n",
    "    # compare the fit of power law compared to lognormal\n",
    "    R, p = fit.distribution_compare('power_law', 'lognormal')\n",
    "    \n",
    "    print('========================')\n",
    "    if R < 0: \n",
    "        print(f'lognormal is the best fit, R = {round(R,3)}')\n",
    "    else: \n",
    "        print(f'power law is the best fit, R = {round(R,3)}')\n",
    "    \n",
    "    if p < 0.05:\n",
    "        print(f'R is significant, p = {round(p,3)}')\n",
    "    else:\n",
    "        print(f'R is not significant, p = {round(p,3)}')\n",
    "        \n",
    "    # plot data\n",
    "    ax = plt.axes(xscale='log', yscale='log')\n",
    "    ax.grid(True);\n",
    "    fit.power_law.plot_pdf(linestyle='--', color='g', label='power_law')\n",
    "    fit.exponential.plot_pdf(linestyle='--', color='r', label='exponential')\n",
    "    fit.plot_pdf(linewidth=2, label='my data');\n",
    "    plt.legend();\n",
    "    plt.ylabel(\"Probability\")\n",
    "    plt.xlabel(x_label);"
   ]
  },
  {
   "cell_type": "code",
   "execution_count": null,
   "metadata": {},
   "outputs": [],
   "source": []
  },
  {
   "cell_type": "code",
   "execution_count": null,
   "metadata": {},
   "outputs": [],
   "source": []
  },
  {
   "cell_type": "code",
   "execution_count": null,
   "metadata": {},
   "outputs": [],
   "source": []
  },
  {
   "cell_type": "code",
   "execution_count": null,
   "metadata": {},
   "outputs": [],
   "source": []
  },
  {
   "cell_type": "code",
   "execution_count": null,
   "metadata": {},
   "outputs": [],
   "source": []
  }
 ],
 "metadata": {
  "kernelspec": {
   "display_name": "Python 3",
   "language": "python",
   "name": "python3"
  },
  "language_info": {
   "codemirror_mode": {
    "name": "ipython",
    "version": 3
   },
   "file_extension": ".py",
   "mimetype": "text/x-python",
   "name": "python",
   "nbconvert_exporter": "python",
   "pygments_lexer": "ipython3",
   "version": "3.6.9"
  }
 },
 "nbformat": 4,
 "nbformat_minor": 2
}
