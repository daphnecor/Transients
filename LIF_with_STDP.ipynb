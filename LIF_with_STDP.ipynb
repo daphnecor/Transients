{
 "cells": [
  {
   "cell_type": "markdown",
   "metadata": {},
   "source": [
    "## Implementing STDP in networks of LIF neurons"
   ]
  },
  {
   "cell_type": "markdown",
   "metadata": {},
   "source": [
    "Now we want to implement STDP in the network and see what happens to the transients over time\n",
    "\n",
    "1. Make a subset of the synapses STDP synapses (only exc, inh and both)\n",
    "2. Stimulate the network \n",
    "3. do this for 3 x for all patterns\n",
    "4. observe the change in transients over time, what happens?\n",
    "\n",
    "Make sure NOT to reset the network for each iteration\n",
    "\n",
    "What will happen? Maybe the transients will get longer as the synaptic weights are less and less random. Maybe they will get more consistent\n",
    "\n",
    "### Examples\n",
    "\n",
    "[Nest synapse STDP](https://nest-simulator.readthedocs.io/en/stable/models/stdp.html)\n",
    "[Clopath STDP](https://nest-simulator.readthedocs.io/en/stable/auto_examples/clopath_synapse_spike_pairing.html)\n",
    "\n",
    "Next: look into\n",
    "\n",
    "- [teacher forcing](https://machinelearningmastery.com/teacher-forcing-for-recurrent-neural-networks/) --> reproduce a spike of a given number of seconds"
   ]
  },
  {
   "cell_type": "code",
   "execution_count": 17,
   "metadata": {},
   "outputs": [],
   "source": [
    "# nest\n",
    "import nest\n",
    "import nest.raster_plot\n",
    "import nest.voltage_trace\n",
    "# other\n",
    "import pandas as pd\n",
    "import os\n",
    "import json\n",
    "import time \n",
    "import timeit\n",
    "import itertools\n",
    "import numpy as np\n",
    "from importlib import reload \n",
    "from itertools import permutations \n",
    "from itertools import combinations \n",
    "import matplotlib.pyplot as plt\n",
    "import seaborn as sns\n",
    "sns.set_style(\"white\")\n",
    "sns.set_palette(\"coolwarm\")\n",
    "\n",
    "import SimulationClass_STDP as simu\n",
    "\n",
    "# update changes made in python script\n",
    "reload(simu);\n",
    "\n",
    "# initialise Helper functions\n",
    "H = simu.HelperFuncs()\n",
    "\n",
    "patterns = []\n",
    "# make permutations for 8 bit pattern\n",
    "for perm in H.make_permutations():\n",
    "    patterns.append(perm)"
   ]
  },
  {
   "cell_type": "markdown",
   "metadata": {},
   "source": [
    "## Patterns\n",
    "\n",
    "Randomise the patterns, and take for each 2x\n"
   ]
  },
  {
   "cell_type": "code",
   "execution_count": 18,
   "metadata": {},
   "outputs": [],
   "source": [
    "patterns = patterns*2"
   ]
  },
  {
   "cell_type": "markdown",
   "metadata": {},
   "source": []
  },
  {
   "cell_type": "code",
   "execution_count": null,
   "metadata": {},
   "outputs": [],
   "source": []
  }
 ],
 "metadata": {
  "kernelspec": {
   "display_name": "Python 3",
   "language": "python",
   "name": "python3"
  },
  "language_info": {
   "codemirror_mode": {
    "name": "ipython",
    "version": 3
   },
   "file_extension": ".py",
   "mimetype": "text/x-python",
   "name": "python",
   "nbconvert_exporter": "python",
   "pygments_lexer": "ipython3",
   "version": "3.6.9"
  }
 },
 "nbformat": 4,
 "nbformat_minor": 2
}
